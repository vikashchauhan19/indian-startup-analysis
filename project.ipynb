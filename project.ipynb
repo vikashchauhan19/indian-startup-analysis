{
 "cells": [
  {
   "attachments": {},
   "cell_type": "markdown",
   "metadata": {},
   "source": [
    "# importing libraries"
   ]
  },
  {
   "cell_type": "code",
   "execution_count": 1,
   "metadata": {},
   "outputs": [],
   "source": [
    "import pandas as pd\n",
    "import numpy as np\n",
    "import matplotlib.pyplot as plt\n",
    "from numerize import numerize\n",
    "import plotly.express as px\n",
    "import plotly.graph_objects as go\n",
    "import datetime as dt\n",
    "import streamlit as st"
   ]
  },
  {
   "attachments": {},
   "cell_type": "markdown",
   "metadata": {},
   "source": [
    "# loading data"
   ]
  },
  {
   "cell_type": "code",
   "execution_count": 2,
   "metadata": {},
   "outputs": [],
   "source": [
    "df = pd.read_csv('data/startup_funding.csv')"
   ]
  },
  {
   "attachments": {},
   "cell_type": "markdown",
   "metadata": {},
   "source": [
    "# Renaming columns"
   ]
  },
  {
   "cell_type": "code",
   "execution_count": 3,
   "metadata": {},
   "outputs": [],
   "source": [
    "df.rename(mapper={\n",
    "        'Date dd/mm/yyyy':'Startup_date',\n",
    "        'City  Location':'City',\n",
    "        'Amount in USD':'Amount',\n",
    "        'Startup Name':'Startupname',\n",
    "        'Industry Vertical':'Industrytype',\n",
    "        'Investors Name':'Investorsname'\n",
    "        },axis=1, inplace=True)\n"
   ]
  },
  {
   "cell_type": "code",
   "execution_count": 4,
   "metadata": {},
   "outputs": [
    {
     "data": {
      "text/plain": [
       "Sr No                 0\n",
       "Startup_date          0\n",
       "Startupname           0\n",
       "Industrytype        171\n",
       "SubVertical         936\n",
       "City                180\n",
       "Investorsname        24\n",
       "InvestmentnType       4\n",
       "Amount              960\n",
       "Remarks            2625\n",
       "dtype: int64"
      ]
     },
     "execution_count": 4,
     "metadata": {},
     "output_type": "execute_result"
    }
   ],
   "source": [
    "df.isnull().sum()"
   ]
  },
  {
   "cell_type": "code",
   "execution_count": 5,
   "metadata": {},
   "outputs": [
    {
     "name": "stdout",
     "output_type": "stream",
     "text": [
      "<class 'pandas.core.frame.DataFrame'>\n",
      "RangeIndex: 3044 entries, 0 to 3043\n",
      "Data columns (total 10 columns):\n",
      " #   Column           Non-Null Count  Dtype \n",
      "---  ------           --------------  ----- \n",
      " 0   Sr No            3044 non-null   int64 \n",
      " 1   Startup_date     3044 non-null   object\n",
      " 2   Startupname      3044 non-null   object\n",
      " 3   Industrytype     2873 non-null   object\n",
      " 4   SubVertical      2108 non-null   object\n",
      " 5   City             2864 non-null   object\n",
      " 6   Investorsname    3020 non-null   object\n",
      " 7   InvestmentnType  3040 non-null   object\n",
      " 8   Amount           2084 non-null   object\n",
      " 9   Remarks          419 non-null    object\n",
      "dtypes: int64(1), object(9)\n",
      "memory usage: 237.9+ KB\n"
     ]
    }
   ],
   "source": [
    "df.info()"
   ]
  },
  {
   "cell_type": "code",
   "execution_count": 6,
   "metadata": {},
   "outputs": [],
   "source": [
    "df.drop(['Remarks','Sr No'],axis=1,inplace=True)"
   ]
  },
  {
   "attachments": {},
   "cell_type": "markdown",
   "metadata": {},
   "source": [
    "# Data cleaning"
   ]
  },
  {
   "cell_type": "code",
   "execution_count": 7,
   "metadata": {},
   "outputs": [],
   "source": [
    "def clean_amount(amt):\n",
    "    amt = str(amt)\n",
    "    if ',' in amt:\n",
    "        amt = amt.replace(',','')\n",
    "    if amt.isnumeric():\n",
    "        return float(amt)\n",
    "    if amt.isalpha() or amt.startswith('\\\\'):\n",
    "        return np.nan\n",
    "    if '.' in amt:\n",
    "        return float(amt)\n",
    "    if '+' in amt:\n",
    "        return float(amt.replace('+',''))\n",
    "\n",
    "df['Amount'] = df['Amount'].apply(clean_amount)"
   ]
  },
  {
   "cell_type": "code",
   "execution_count": 8,
   "metadata": {},
   "outputs": [],
   "source": [
    "x=df['Amount'].mean()\n",
    "df['Amount'].fillna(x,inplace=True)"
   ]
  },
  {
   "attachments": {},
   "cell_type": "markdown",
   "metadata": {},
   "source": [
    "# Categorical coloumn\n"
   ]
  },
  {
   "cell_type": "code",
   "execution_count": 9,
   "metadata": {},
   "outputs": [
    {
     "data": {
      "text/plain": [
       "Startup_date         0\n",
       "Startupname          0\n",
       "Industrytype       171\n",
       "SubVertical        936\n",
       "City               180\n",
       "Investorsname       24\n",
       "InvestmentnType      4\n",
       "Amount               0\n",
       "dtype: int64"
      ]
     },
     "execution_count": 9,
     "metadata": {},
     "output_type": "execute_result"
    }
   ],
   "source": [
    "df.isnull().sum()"
   ]
  },
  {
   "attachments": {},
   "cell_type": "markdown",
   "metadata": {},
   "source": [
    "# Droping the Small Empty cell"
   ]
  },
  {
   "cell_type": "code",
   "execution_count": 10,
   "metadata": {},
   "outputs": [],
   "source": [
    "df.dropna(subset=['InvestmentnType','Investorsname'],inplace=True)"
   ]
  },
  {
   "attachments": {},
   "cell_type": "markdown",
   "metadata": {},
   "source": [
    "# Replacing NaN Values"
   ]
  },
  {
   "cell_type": "code",
   "execution_count": 11,
   "metadata": {},
   "outputs": [],
   "source": [
    "df['SubVertical'].replace(np.nan, df['SubVertical'].value_counts().idxmax(), inplace=True)\n"
   ]
  },
  {
   "cell_type": "code",
   "execution_count": 12,
   "metadata": {},
   "outputs": [],
   "source": [
    "df['Industrytype'].replace(np.NaN,df['Industrytype'].value_counts().idxmax(),inplace=True)"
   ]
  },
  {
   "cell_type": "code",
   "execution_count": null,
   "metadata": {},
   "outputs": [],
   "source": []
  },
  {
   "cell_type": "code",
   "execution_count": 13,
   "metadata": {},
   "outputs": [],
   "source": [
    "df['City'].replace(np.NaN,df['City'].value_counts().idxmax(),inplace= True)"
   ]
  },
  {
   "cell_type": "code",
   "execution_count": 14,
   "metadata": {},
   "outputs": [
    {
     "data": {
      "text/plain": [
       "Startup_date       0\n",
       "Startupname        0\n",
       "Industrytype       0\n",
       "SubVertical        0\n",
       "City               0\n",
       "Investorsname      0\n",
       "InvestmentnType    0\n",
       "Amount             0\n",
       "dtype: int64"
      ]
     },
     "execution_count": 14,
     "metadata": {},
     "output_type": "execute_result"
    }
   ],
   "source": [
    "df.isnull().sum()"
   ]
  },
  {
   "attachments": {},
   "cell_type": "markdown",
   "metadata": {},
   "source": [
    "All Nan values Cleaned"
   ]
  },
  {
   "attachments": {},
   "cell_type": "markdown",
   "metadata": {},
   "source": [
    "# Categorical Column"
   ]
  },
  {
   "cell_type": "code",
   "execution_count": 15,
   "metadata": {},
   "outputs": [],
   "source": [
    "df_cat = df.select_dtypes(np.object_)"
   ]
  },
  {
   "cell_type": "code",
   "execution_count": 16,
   "metadata": {},
   "outputs": [
    {
     "data": {
      "text/html": [
       "<div>\n",
       "<style scoped>\n",
       "    .dataframe tbody tr th:only-of-type {\n",
       "        vertical-align: middle;\n",
       "    }\n",
       "\n",
       "    .dataframe tbody tr th {\n",
       "        vertical-align: top;\n",
       "    }\n",
       "\n",
       "    .dataframe thead th {\n",
       "        text-align: right;\n",
       "    }\n",
       "</style>\n",
       "<table border=\"1\" class=\"dataframe\">\n",
       "  <thead>\n",
       "    <tr style=\"text-align: right;\">\n",
       "      <th></th>\n",
       "      <th>Startup_date</th>\n",
       "      <th>Startupname</th>\n",
       "      <th>Industrytype</th>\n",
       "      <th>SubVertical</th>\n",
       "      <th>City</th>\n",
       "      <th>Investorsname</th>\n",
       "      <th>InvestmentnType</th>\n",
       "    </tr>\n",
       "  </thead>\n",
       "  <tbody>\n",
       "    <tr>\n",
       "      <th>0</th>\n",
       "      <td>09/01/2020</td>\n",
       "      <td>BYJU’S</td>\n",
       "      <td>E-Tech</td>\n",
       "      <td>E-learning</td>\n",
       "      <td>Bengaluru</td>\n",
       "      <td>Tiger Global Management</td>\n",
       "      <td>Private Equity Round</td>\n",
       "    </tr>\n",
       "    <tr>\n",
       "      <th>1</th>\n",
       "      <td>13/01/2020</td>\n",
       "      <td>Shuttl</td>\n",
       "      <td>Transportation</td>\n",
       "      <td>App based shuttle service</td>\n",
       "      <td>Gurgaon</td>\n",
       "      <td>Susquehanna Growth Equity</td>\n",
       "      <td>Series C</td>\n",
       "    </tr>\n",
       "    <tr>\n",
       "      <th>2</th>\n",
       "      <td>09/01/2020</td>\n",
       "      <td>Mamaearth</td>\n",
       "      <td>E-commerce</td>\n",
       "      <td>Retailer of baby and toddler products</td>\n",
       "      <td>Bengaluru</td>\n",
       "      <td>Sequoia Capital India</td>\n",
       "      <td>Series B</td>\n",
       "    </tr>\n",
       "    <tr>\n",
       "      <th>3</th>\n",
       "      <td>02/01/2020</td>\n",
       "      <td>https://www.wealthbucket.in/</td>\n",
       "      <td>FinTech</td>\n",
       "      <td>Online Investment</td>\n",
       "      <td>New Delhi</td>\n",
       "      <td>Vinod Khatumal</td>\n",
       "      <td>Pre-series A</td>\n",
       "    </tr>\n",
       "    <tr>\n",
       "      <th>4</th>\n",
       "      <td>02/01/2020</td>\n",
       "      <td>Fashor</td>\n",
       "      <td>Fashion and Apparel</td>\n",
       "      <td>Embroiled Clothes For Women</td>\n",
       "      <td>Mumbai</td>\n",
       "      <td>Sprout Venture Partners</td>\n",
       "      <td>Seed Round</td>\n",
       "    </tr>\n",
       "    <tr>\n",
       "      <th>...</th>\n",
       "      <td>...</td>\n",
       "      <td>...</td>\n",
       "      <td>...</td>\n",
       "      <td>...</td>\n",
       "      <td>...</td>\n",
       "      <td>...</td>\n",
       "      <td>...</td>\n",
       "    </tr>\n",
       "    <tr>\n",
       "      <th>3039</th>\n",
       "      <td>29/01/2015</td>\n",
       "      <td>Printvenue</td>\n",
       "      <td>Consumer Internet</td>\n",
       "      <td>Online Lending Platform</td>\n",
       "      <td>Bangalore</td>\n",
       "      <td>Asia Pacific Internet Group</td>\n",
       "      <td>Private Equity</td>\n",
       "    </tr>\n",
       "    <tr>\n",
       "      <th>3040</th>\n",
       "      <td>29/01/2015</td>\n",
       "      <td>Graphene</td>\n",
       "      <td>Consumer Internet</td>\n",
       "      <td>Online Lending Platform</td>\n",
       "      <td>Bangalore</td>\n",
       "      <td>KARSEMVEN Fund</td>\n",
       "      <td>Private Equity</td>\n",
       "    </tr>\n",
       "    <tr>\n",
       "      <th>3041</th>\n",
       "      <td>30/01/2015</td>\n",
       "      <td>Mad Street Den</td>\n",
       "      <td>Consumer Internet</td>\n",
       "      <td>Online Lending Platform</td>\n",
       "      <td>Bangalore</td>\n",
       "      <td>Exfinity Fund, GrowX Ventures.</td>\n",
       "      <td>Private Equity</td>\n",
       "    </tr>\n",
       "    <tr>\n",
       "      <th>3042</th>\n",
       "      <td>30/01/2015</td>\n",
       "      <td>Simplotel</td>\n",
       "      <td>Consumer Internet</td>\n",
       "      <td>Online Lending Platform</td>\n",
       "      <td>Bangalore</td>\n",
       "      <td>MakeMyTrip</td>\n",
       "      <td>Private Equity</td>\n",
       "    </tr>\n",
       "    <tr>\n",
       "      <th>3043</th>\n",
       "      <td>31/01/2015</td>\n",
       "      <td>couponmachine.in</td>\n",
       "      <td>Consumer Internet</td>\n",
       "      <td>Online Lending Platform</td>\n",
       "      <td>Bangalore</td>\n",
       "      <td>UK based Group of Angel Investors</td>\n",
       "      <td>Seed Funding</td>\n",
       "    </tr>\n",
       "  </tbody>\n",
       "</table>\n",
       "<p>3016 rows × 7 columns</p>\n",
       "</div>"
      ],
      "text/plain": [
       "     Startup_date                   Startupname         Industrytype  \\\n",
       "0      09/01/2020                        BYJU’S               E-Tech   \n",
       "1      13/01/2020                        Shuttl       Transportation   \n",
       "2      09/01/2020                     Mamaearth           E-commerce   \n",
       "3      02/01/2020  https://www.wealthbucket.in/              FinTech   \n",
       "4      02/01/2020                        Fashor  Fashion and Apparel   \n",
       "...           ...                           ...                  ...   \n",
       "3039   29/01/2015                    Printvenue    Consumer Internet   \n",
       "3040   29/01/2015                      Graphene    Consumer Internet   \n",
       "3041   30/01/2015                Mad Street Den    Consumer Internet   \n",
       "3042   30/01/2015                     Simplotel    Consumer Internet   \n",
       "3043   31/01/2015              couponmachine.in    Consumer Internet   \n",
       "\n",
       "                                SubVertical       City  \\\n",
       "0                                E-learning  Bengaluru   \n",
       "1                 App based shuttle service    Gurgaon   \n",
       "2     Retailer of baby and toddler products  Bengaluru   \n",
       "3                         Online Investment  New Delhi   \n",
       "4               Embroiled Clothes For Women     Mumbai   \n",
       "...                                     ...        ...   \n",
       "3039                Online Lending Platform  Bangalore   \n",
       "3040                Online Lending Platform  Bangalore   \n",
       "3041                Online Lending Platform  Bangalore   \n",
       "3042                Online Lending Platform  Bangalore   \n",
       "3043                Online Lending Platform  Bangalore   \n",
       "\n",
       "                          Investorsname       InvestmentnType  \n",
       "0               Tiger Global Management  Private Equity Round  \n",
       "1             Susquehanna Growth Equity              Series C  \n",
       "2                 Sequoia Capital India              Series B  \n",
       "3                        Vinod Khatumal          Pre-series A  \n",
       "4               Sprout Venture Partners            Seed Round  \n",
       "...                                 ...                   ...  \n",
       "3039        Asia Pacific Internet Group        Private Equity  \n",
       "3040                     KARSEMVEN Fund        Private Equity  \n",
       "3041     Exfinity Fund, GrowX Ventures.        Private Equity  \n",
       "3042                         MakeMyTrip        Private Equity  \n",
       "3043  UK based Group of Angel Investors          Seed Funding  \n",
       "\n",
       "[3016 rows x 7 columns]"
      ]
     },
     "execution_count": 16,
     "metadata": {},
     "output_type": "execute_result"
    }
   ],
   "source": [
    "df_cat"
   ]
  },
  {
   "attachments": {},
   "cell_type": "markdown",
   "metadata": {},
   "source": [
    "# numerical coloumn"
   ]
  },
  {
   "cell_type": "code",
   "execution_count": 17,
   "metadata": {},
   "outputs": [],
   "source": [
    "df_num = df.select_dtypes(np.number)"
   ]
  },
  {
   "cell_type": "code",
   "execution_count": 18,
   "metadata": {},
   "outputs": [
    {
     "data": {
      "text/html": [
       "<div>\n",
       "<style scoped>\n",
       "    .dataframe tbody tr th:only-of-type {\n",
       "        vertical-align: middle;\n",
       "    }\n",
       "\n",
       "    .dataframe tbody tr th {\n",
       "        vertical-align: top;\n",
       "    }\n",
       "\n",
       "    .dataframe thead th {\n",
       "        text-align: right;\n",
       "    }\n",
       "</style>\n",
       "<table border=\"1\" class=\"dataframe\">\n",
       "  <thead>\n",
       "    <tr style=\"text-align: right;\">\n",
       "      <th></th>\n",
       "      <th>Amount</th>\n",
       "    </tr>\n",
       "  </thead>\n",
       "  <tbody>\n",
       "    <tr>\n",
       "      <th>0</th>\n",
       "      <td>2.000000e+08</td>\n",
       "    </tr>\n",
       "    <tr>\n",
       "      <th>1</th>\n",
       "      <td>8.048394e+06</td>\n",
       "    </tr>\n",
       "    <tr>\n",
       "      <th>2</th>\n",
       "      <td>1.835886e+07</td>\n",
       "    </tr>\n",
       "    <tr>\n",
       "      <th>3</th>\n",
       "      <td>3.000000e+06</td>\n",
       "    </tr>\n",
       "    <tr>\n",
       "      <th>4</th>\n",
       "      <td>1.800000e+06</td>\n",
       "    </tr>\n",
       "    <tr>\n",
       "      <th>...</th>\n",
       "      <td>...</td>\n",
       "    </tr>\n",
       "    <tr>\n",
       "      <th>3039</th>\n",
       "      <td>4.500000e+06</td>\n",
       "    </tr>\n",
       "    <tr>\n",
       "      <th>3040</th>\n",
       "      <td>8.250000e+05</td>\n",
       "    </tr>\n",
       "    <tr>\n",
       "      <th>3041</th>\n",
       "      <td>1.500000e+06</td>\n",
       "    </tr>\n",
       "    <tr>\n",
       "      <th>3042</th>\n",
       "      <td>1.842792e+07</td>\n",
       "    </tr>\n",
       "    <tr>\n",
       "      <th>3043</th>\n",
       "      <td>1.400000e+05</td>\n",
       "    </tr>\n",
       "  </tbody>\n",
       "</table>\n",
       "<p>3016 rows × 1 columns</p>\n",
       "</div>"
      ],
      "text/plain": [
       "            Amount\n",
       "0     2.000000e+08\n",
       "1     8.048394e+06\n",
       "2     1.835886e+07\n",
       "3     3.000000e+06\n",
       "4     1.800000e+06\n",
       "...            ...\n",
       "3039  4.500000e+06\n",
       "3040  8.250000e+05\n",
       "3041  1.500000e+06\n",
       "3042  1.842792e+07\n",
       "3043  1.400000e+05\n",
       "\n",
       "[3016 rows x 1 columns]"
      ]
     },
     "execution_count": 18,
     "metadata": {},
     "output_type": "execute_result"
    }
   ],
   "source": [
    "df_num"
   ]
  },
  {
   "attachments": {},
   "cell_type": "markdown",
   "metadata": {},
   "source": [
    "# Univairiate Analysis"
   ]
  },
  {
   "cell_type": "code",
   "execution_count": 19,
   "metadata": {},
   "outputs": [
    {
     "data": {
      "text/plain": [
       "2437"
      ]
     },
     "execution_count": 19,
     "metadata": {},
     "output_type": "execute_result"
    }
   ],
   "source": [
    "df['Startupname'].nunique()"
   ]
  },
  {
   "cell_type": "code",
   "execution_count": 20,
   "metadata": {},
   "outputs": [
    {
     "data": {
      "text/plain": [
       "count    3.016000e+03\n",
       "mean     1.829268e+07\n",
       "std      9.979839e+07\n",
       "min      1.600000e+04\n",
       "25%      1.000000e+06\n",
       "50%      7.500000e+06\n",
       "75%      1.842792e+07\n",
       "max      3.900000e+09\n",
       "Name: Amount, dtype: float64"
      ]
     },
     "execution_count": 20,
     "metadata": {},
     "output_type": "execute_result"
    }
   ],
   "source": [
    "df['Amount'].describe()"
   ]
  },
  {
   "cell_type": "code",
   "execution_count": 21,
   "metadata": {},
   "outputs": [
    {
     "data": {
      "text/plain": [
       "0       200000000\n",
       "1         8048394\n",
       "2        18358860\n",
       "3         3000000\n",
       "4         1800000\n",
       "          ...    \n",
       "3039      4500000\n",
       "3040       825000\n",
       "3041      1500000\n",
       "3042     18427918\n",
       "3043       140000\n",
       "Name: Amount, Length: 3016, dtype: int64"
      ]
     },
     "execution_count": 21,
     "metadata": {},
     "output_type": "execute_result"
    }
   ],
   "source": [
    "df['Amount'] = df['Amount'].astype('int64')\n",
    "df['Amount']"
   ]
  },
  {
   "attachments": {},
   "cell_type": "markdown",
   "metadata": {},
   "source": [
    "# Bivariate Analysis"
   ]
  },
  {
   "attachments": {},
   "cell_type": "markdown",
   "metadata": {},
   "source": [
    "# Graphs"
   ]
  },
  {
   "cell_type": "code",
   "execution_count": 22,
   "metadata": {},
   "outputs": [
    {
     "data": {
      "application/vnd.plotly.v1+json": {
       "config": {
        "plotlyServerURL": "https://plot.ly"
       },
       "data": [
        {
         "fillpattern": {
          "shape": ""
         },
         "hovertemplate": "Amount=%{x}<br>Startup_date=%{y}<extra></extra>",
         "legendgroup": "",
         "line": {
          "color": "#000001"
         },
         "marker": {
          "symbol": "circle"
         },
         "mode": "lines+markers",
         "name": "",
         "orientation": "h",
         "showlegend": false,
         "stackgroup": "1",
         "type": "scatter",
         "x": [
          3900000000,
          2554427918,
          1419427918,
          1408970000,
          1000000000,
          871633754,
          802300000,
          585000000,
          561783754,
          500400000,
          500000000,
          493300000,
          435000000,
          376855836,
          309000000,
          300000000,
          293635836,
          281243754,
          277927918,
          276105836
         ],
         "xaxis": "x",
         "y": [
          "27/08/2019",
          "11/08/2017",
          "18/05/2017",
          "21/03/2017",
          "25/11/2019",
          "29/09/2015",
          "28/07/2015",
          "02/10/2019",
          "18/11/2015",
          "01/08/2015",
          "01/02/2018",
          "04/09/2019",
          "08/04/2015",
          "01/03/2017",
          "15/11/2019",
          "19/11/2018",
          "07/09/2017",
          "22/03/2016",
          "24/04/2017",
          "16/08/2016"
         ],
         "yaxis": "y"
        }
       ],
       "layout": {
        "legend": {
         "tracegroupgap": 0
        },
        "margin": {
         "t": 60
        },
        "template": {
         "data": {
          "candlestick": [
           {
            "decreasing": {
             "line": {
              "color": "#000033"
             }
            },
            "increasing": {
             "line": {
              "color": "#000032"
             }
            },
            "type": "candlestick"
           }
          ],
          "contour": [
           {
            "colorscale": [
             [
              0,
              "#000011"
             ],
             [
              0.1111111111111111,
              "#000012"
             ],
             [
              0.2222222222222222,
              "#000013"
             ],
             [
              0.3333333333333333,
              "#000014"
             ],
             [
              0.4444444444444444,
              "#000015"
             ],
             [
              0.5555555555555556,
              "#000016"
             ],
             [
              0.6666666666666666,
              "#000017"
             ],
             [
              0.7777777777777778,
              "#000018"
             ],
             [
              0.8888888888888888,
              "#000019"
             ],
             [
              1,
              "#000020"
             ]
            ],
            "type": "contour"
           }
          ],
          "contourcarpet": [
           {
            "colorscale": [
             [
              0,
              "#000011"
             ],
             [
              0.1111111111111111,
              "#000012"
             ],
             [
              0.2222222222222222,
              "#000013"
             ],
             [
              0.3333333333333333,
              "#000014"
             ],
             [
              0.4444444444444444,
              "#000015"
             ],
             [
              0.5555555555555556,
              "#000016"
             ],
             [
              0.6666666666666666,
              "#000017"
             ],
             [
              0.7777777777777778,
              "#000018"
             ],
             [
              0.8888888888888888,
              "#000019"
             ],
             [
              1,
              "#000020"
             ]
            ],
            "type": "contourcarpet"
           }
          ],
          "heatmap": [
           {
            "colorscale": [
             [
              0,
              "#000011"
             ],
             [
              0.1111111111111111,
              "#000012"
             ],
             [
              0.2222222222222222,
              "#000013"
             ],
             [
              0.3333333333333333,
              "#000014"
             ],
             [
              0.4444444444444444,
              "#000015"
             ],
             [
              0.5555555555555556,
              "#000016"
             ],
             [
              0.6666666666666666,
              "#000017"
             ],
             [
              0.7777777777777778,
              "#000018"
             ],
             [
              0.8888888888888888,
              "#000019"
             ],
             [
              1,
              "#000020"
             ]
            ],
            "type": "heatmap"
           }
          ],
          "histogram2d": [
           {
            "colorscale": [
             [
              0,
              "#000011"
             ],
             [
              0.1111111111111111,
              "#000012"
             ],
             [
              0.2222222222222222,
              "#000013"
             ],
             [
              0.3333333333333333,
              "#000014"
             ],
             [
              0.4444444444444444,
              "#000015"
             ],
             [
              0.5555555555555556,
              "#000016"
             ],
             [
              0.6666666666666666,
              "#000017"
             ],
             [
              0.7777777777777778,
              "#000018"
             ],
             [
              0.8888888888888888,
              "#000019"
             ],
             [
              1,
              "#000020"
             ]
            ],
            "type": "histogram2d"
           }
          ],
          "icicle": [
           {
            "textfont": {
             "color": "white"
            },
            "type": "icicle"
           }
          ],
          "sankey": [
           {
            "textfont": {
             "color": "#000036"
            },
            "type": "sankey"
           }
          ],
          "scatter": [
           {
            "marker": {
             "line": {
              "width": 0
             }
            },
            "type": "scatter"
           }
          ],
          "table": [
           {
            "cells": {
             "fill": {
              "color": "#000038"
             },
             "font": {
              "color": "#000037"
             },
             "line": {
              "color": "#000039"
             }
            },
            "header": {
             "fill": {
              "color": "#000040"
             },
             "font": {
              "color": "#000036"
             },
             "line": {
              "color": "#000039"
             }
            },
            "type": "table"
           }
          ],
          "waterfall": [
           {
            "connector": {
             "line": {
              "color": "#000036",
              "width": 2
             }
            },
            "decreasing": {
             "marker": {
              "color": "#000033"
             }
            },
            "increasing": {
             "marker": {
              "color": "#000032"
             }
            },
            "totals": {
             "marker": {
              "color": "#000034"
             }
            },
            "type": "waterfall"
           }
          ]
         },
         "layout": {
          "coloraxis": {
           "colorscale": [
            [
             0,
             "#000011"
            ],
            [
             0.1111111111111111,
             "#000012"
            ],
            [
             0.2222222222222222,
             "#000013"
            ],
            [
             0.3333333333333333,
             "#000014"
            ],
            [
             0.4444444444444444,
             "#000015"
            ],
            [
             0.5555555555555556,
             "#000016"
            ],
            [
             0.6666666666666666,
             "#000017"
            ],
            [
             0.7777777777777778,
             "#000018"
            ],
            [
             0.8888888888888888,
             "#000019"
            ],
            [
             1,
             "#000020"
            ]
           ]
          },
          "colorscale": {
           "diverging": [
            [
             0,
             "#000021"
            ],
            [
             0.1,
             "#000022"
            ],
            [
             0.2,
             "#000023"
            ],
            [
             0.3,
             "#000024"
            ],
            [
             0.4,
             "#000025"
            ],
            [
             0.5,
             "#000026"
            ],
            [
             0.6,
             "#000027"
            ],
            [
             0.7,
             "#000028"
            ],
            [
             0.8,
             "#000029"
            ],
            [
             0.9,
             "#000030"
            ],
            [
             1,
             "#000031"
            ]
           ],
           "sequential": [
            [
             0,
             "#000011"
            ],
            [
             0.1111111111111111,
             "#000012"
            ],
            [
             0.2222222222222222,
             "#000013"
            ],
            [
             0.3333333333333333,
             "#000014"
            ],
            [
             0.4444444444444444,
             "#000015"
            ],
            [
             0.5555555555555556,
             "#000016"
            ],
            [
             0.6666666666666666,
             "#000017"
            ],
            [
             0.7777777777777778,
             "#000018"
            ],
            [
             0.8888888888888888,
             "#000019"
            ],
            [
             1,
             "#000020"
            ]
           ],
           "sequentialminus": [
            [
             0,
             "#000011"
            ],
            [
             0.1111111111111111,
             "#000012"
            ],
            [
             0.2222222222222222,
             "#000013"
            ],
            [
             0.3333333333333333,
             "#000014"
            ],
            [
             0.4444444444444444,
             "#000015"
            ],
            [
             0.5555555555555556,
             "#000016"
            ],
            [
             0.6666666666666666,
             "#000017"
            ],
            [
             0.7777777777777778,
             "#000018"
            ],
            [
             0.8888888888888888,
             "#000019"
            ],
            [
             1,
             "#000020"
            ]
           ]
          },
          "colorway": [
           "#000001",
           "#000002",
           "#000003",
           "#000004",
           "#000005",
           "#000006",
           "#000007",
           "#000008",
           "#000009",
           "#000010"
          ]
         }
        },
        "xaxis": {
         "anchor": "y",
         "domain": [
          0,
          1
         ],
         "title": {
          "text": "Amount"
         }
        },
        "yaxis": {
         "anchor": "x",
         "domain": [
          0,
          1
         ],
         "title": {
          "text": "Startup_date"
         }
        }
       }
      }
     },
     "metadata": {},
     "output_type": "display_data"
    }
   ],
   "source": [
    "dg_amount= df.groupby('Startup_date')['Amount'].sum().reset_index()\n",
    "dg_amount.sort_values(by='Amount',ascending=False,inplace=True)\n",
    "fig = px.area(dg_amount.head(20),x='Amount',y='Startup_date',markers='*')\n",
    "fig.show()\n",
    "#dg_amount"
   ]
  },
  {
   "attachments": {},
   "cell_type": "markdown",
   "metadata": {},
   "source": [
    "# Major city with most number of Startup"
   ]
  },
  {
   "cell_type": "code",
   "execution_count": 23,
   "metadata": {},
   "outputs": [
    {
     "data": {
      "application/vnd.plotly.v1+json": {
       "config": {
        "plotlyServerURL": "https://plot.ly"
       },
       "data": [
        {
         "alignmentgroup": "True",
         "hovertemplate": "City Name=%{x}<br>Occurance=%{y}<extra></extra>",
         "legendgroup": "",
         "marker": {
          "color": "#000001",
          "pattern": {
           "shape": ""
          }
         },
         "name": "",
         "offsetgroup": "",
         "orientation": "v",
         "showlegend": false,
         "textposition": "auto",
         "type": "bar",
         "x": [
          "Bangalore",
          "Mumbai",
          "New Delhi",
          "Gurgaon",
          "Bengaluru",
          "Pune",
          "Hyderabad",
          "Chennai",
          "Noida",
          "Gurugram"
         ],
         "xaxis": "x",
         "y": [
          879,
          556,
          421,
          285,
          136,
          105,
          98,
          97,
          92,
          50
         ],
         "yaxis": "y"
        }
       ],
       "layout": {
        "barmode": "relative",
        "legend": {
         "tracegroupgap": 0
        },
        "template": {
         "data": {
          "candlestick": [
           {
            "decreasing": {
             "line": {
              "color": "#000033"
             }
            },
            "increasing": {
             "line": {
              "color": "#000032"
             }
            },
            "type": "candlestick"
           }
          ],
          "contour": [
           {
            "colorscale": [
             [
              0,
              "#000011"
             ],
             [
              0.1111111111111111,
              "#000012"
             ],
             [
              0.2222222222222222,
              "#000013"
             ],
             [
              0.3333333333333333,
              "#000014"
             ],
             [
              0.4444444444444444,
              "#000015"
             ],
             [
              0.5555555555555556,
              "#000016"
             ],
             [
              0.6666666666666666,
              "#000017"
             ],
             [
              0.7777777777777778,
              "#000018"
             ],
             [
              0.8888888888888888,
              "#000019"
             ],
             [
              1,
              "#000020"
             ]
            ],
            "type": "contour"
           }
          ],
          "contourcarpet": [
           {
            "colorscale": [
             [
              0,
              "#000011"
             ],
             [
              0.1111111111111111,
              "#000012"
             ],
             [
              0.2222222222222222,
              "#000013"
             ],
             [
              0.3333333333333333,
              "#000014"
             ],
             [
              0.4444444444444444,
              "#000015"
             ],
             [
              0.5555555555555556,
              "#000016"
             ],
             [
              0.6666666666666666,
              "#000017"
             ],
             [
              0.7777777777777778,
              "#000018"
             ],
             [
              0.8888888888888888,
              "#000019"
             ],
             [
              1,
              "#000020"
             ]
            ],
            "type": "contourcarpet"
           }
          ],
          "heatmap": [
           {
            "colorscale": [
             [
              0,
              "#000011"
             ],
             [
              0.1111111111111111,
              "#000012"
             ],
             [
              0.2222222222222222,
              "#000013"
             ],
             [
              0.3333333333333333,
              "#000014"
             ],
             [
              0.4444444444444444,
              "#000015"
             ],
             [
              0.5555555555555556,
              "#000016"
             ],
             [
              0.6666666666666666,
              "#000017"
             ],
             [
              0.7777777777777778,
              "#000018"
             ],
             [
              0.8888888888888888,
              "#000019"
             ],
             [
              1,
              "#000020"
             ]
            ],
            "type": "heatmap"
           }
          ],
          "histogram2d": [
           {
            "colorscale": [
             [
              0,
              "#000011"
             ],
             [
              0.1111111111111111,
              "#000012"
             ],
             [
              0.2222222222222222,
              "#000013"
             ],
             [
              0.3333333333333333,
              "#000014"
             ],
             [
              0.4444444444444444,
              "#000015"
             ],
             [
              0.5555555555555556,
              "#000016"
             ],
             [
              0.6666666666666666,
              "#000017"
             ],
             [
              0.7777777777777778,
              "#000018"
             ],
             [
              0.8888888888888888,
              "#000019"
             ],
             [
              1,
              "#000020"
             ]
            ],
            "type": "histogram2d"
           }
          ],
          "icicle": [
           {
            "textfont": {
             "color": "white"
            },
            "type": "icicle"
           }
          ],
          "sankey": [
           {
            "textfont": {
             "color": "#000036"
            },
            "type": "sankey"
           }
          ],
          "scatter": [
           {
            "marker": {
             "line": {
              "width": 0
             }
            },
            "type": "scatter"
           }
          ],
          "table": [
           {
            "cells": {
             "fill": {
              "color": "#000038"
             },
             "font": {
              "color": "#000037"
             },
             "line": {
              "color": "#000039"
             }
            },
            "header": {
             "fill": {
              "color": "#000040"
             },
             "font": {
              "color": "#000036"
             },
             "line": {
              "color": "#000039"
             }
            },
            "type": "table"
           }
          ],
          "waterfall": [
           {
            "connector": {
             "line": {
              "color": "#000036",
              "width": 2
             }
            },
            "decreasing": {
             "marker": {
              "color": "#000033"
             }
            },
            "increasing": {
             "marker": {
              "color": "#000032"
             }
            },
            "totals": {
             "marker": {
              "color": "#000034"
             }
            },
            "type": "waterfall"
           }
          ]
         },
         "layout": {
          "coloraxis": {
           "colorscale": [
            [
             0,
             "#000011"
            ],
            [
             0.1111111111111111,
             "#000012"
            ],
            [
             0.2222222222222222,
             "#000013"
            ],
            [
             0.3333333333333333,
             "#000014"
            ],
            [
             0.4444444444444444,
             "#000015"
            ],
            [
             0.5555555555555556,
             "#000016"
            ],
            [
             0.6666666666666666,
             "#000017"
            ],
            [
             0.7777777777777778,
             "#000018"
            ],
            [
             0.8888888888888888,
             "#000019"
            ],
            [
             1,
             "#000020"
            ]
           ]
          },
          "colorscale": {
           "diverging": [
            [
             0,
             "#000021"
            ],
            [
             0.1,
             "#000022"
            ],
            [
             0.2,
             "#000023"
            ],
            [
             0.3,
             "#000024"
            ],
            [
             0.4,
             "#000025"
            ],
            [
             0.5,
             "#000026"
            ],
            [
             0.6,
             "#000027"
            ],
            [
             0.7,
             "#000028"
            ],
            [
             0.8,
             "#000029"
            ],
            [
             0.9,
             "#000030"
            ],
            [
             1,
             "#000031"
            ]
           ],
           "sequential": [
            [
             0,
             "#000011"
            ],
            [
             0.1111111111111111,
             "#000012"
            ],
            [
             0.2222222222222222,
             "#000013"
            ],
            [
             0.3333333333333333,
             "#000014"
            ],
            [
             0.4444444444444444,
             "#000015"
            ],
            [
             0.5555555555555556,
             "#000016"
            ],
            [
             0.6666666666666666,
             "#000017"
            ],
            [
             0.7777777777777778,
             "#000018"
            ],
            [
             0.8888888888888888,
             "#000019"
            ],
            [
             1,
             "#000020"
            ]
           ],
           "sequentialminus": [
            [
             0,
             "#000011"
            ],
            [
             0.1111111111111111,
             "#000012"
            ],
            [
             0.2222222222222222,
             "#000013"
            ],
            [
             0.3333333333333333,
             "#000014"
            ],
            [
             0.4444444444444444,
             "#000015"
            ],
            [
             0.5555555555555556,
             "#000016"
            ],
            [
             0.6666666666666666,
             "#000017"
            ],
            [
             0.7777777777777778,
             "#000018"
            ],
            [
             0.8888888888888888,
             "#000019"
            ],
            [
             1,
             "#000020"
            ]
           ]
          },
          "colorway": [
           "#000001",
           "#000002",
           "#000003",
           "#000004",
           "#000005",
           "#000006",
           "#000007",
           "#000008",
           "#000009",
           "#000010"
          ]
         }
        },
        "title": {
         "text": "Startups by City"
        },
        "xaxis": {
         "anchor": "y",
         "domain": [
          0,
          1
         ],
         "title": {
          "text": "City Name"
         }
        },
        "yaxis": {
         "anchor": "x",
         "domain": [
          0,
          1
         ],
         "title": {
          "text": "Occurance"
         }
        }
       }
      }
     },
     "metadata": {},
     "output_type": "display_data"
    }
   ],
   "source": [
    "city_df = df['City'].value_counts().reset_index()\n",
    "city_df.columns = ['City Name','Occurance']\n",
    "fig = px.bar(city_df.head(10), 'City Name', 'Occurance', title='Startups by City')\n",
    "fig.show()"
   ]
  },
  {
   "cell_type": "code",
   "execution_count": 24,
   "metadata": {},
   "outputs": [
    {
     "data": {
      "application/vnd.plotly.v1+json": {
       "config": {
        "plotlyServerURL": "https://plot.ly"
       },
       "data": [
        {
         "alignmentgroup": "True",
         "bingroup": "x",
         "histfunc": "sum",
         "hovertemplate": "City=%{x}<br>sum of Amount=%{y}<extra></extra>",
         "legendgroup": "",
         "marker": {
          "color": "#000001",
          "pattern": {
           "shape": ""
          }
         },
         "name": "",
         "offsetgroup": "",
         "orientation": "v",
         "showlegend": false,
         "type": "histogram",
         "x": [
          "Bangalore",
          "Bengaluru",
          "Mumbai",
          "New Delhi",
          "Gurgaon",
          "Noida",
          "Pune",
          "Chennai",
          "Gurugram",
          "Hyderabad",
          "Menlo Park",
          "Jaipur",
          "Delhi",
          "Ahmedabad",
          "California",
          "Kormangala",
          "Faridabad",
          "India/Singapore",
          "Kolkata",
          "San Francisco",
          "Indore",
          "Chandigarh",
          "San Jose,",
          "Singapore",
          "Santa Monica"
         ],
         "xaxis": "x",
         "y": [
          17958120278,
          7347083689,
          7330768567,
          6334842115,
          4622062943,
          1944696966,
          1259631212,
          1124181196,
          994927949,
          880202098,
          450000000,
          447581688,
          435609762,
          316343098,
          300000000,
          284000000,
          270427918,
          226000000,
          218690098,
          187000000,
          152095344,
          139239590,
          135000000,
          119205836,
          110000000
         ],
         "yaxis": "y"
        }
       ],
       "layout": {
        "barmode": "relative",
        "legend": {
         "tracegroupgap": 0
        },
        "template": {
         "data": {
          "candlestick": [
           {
            "decreasing": {
             "line": {
              "color": "#000033"
             }
            },
            "increasing": {
             "line": {
              "color": "#000032"
             }
            },
            "type": "candlestick"
           }
          ],
          "contour": [
           {
            "colorscale": [
             [
              0,
              "#000011"
             ],
             [
              0.1111111111111111,
              "#000012"
             ],
             [
              0.2222222222222222,
              "#000013"
             ],
             [
              0.3333333333333333,
              "#000014"
             ],
             [
              0.4444444444444444,
              "#000015"
             ],
             [
              0.5555555555555556,
              "#000016"
             ],
             [
              0.6666666666666666,
              "#000017"
             ],
             [
              0.7777777777777778,
              "#000018"
             ],
             [
              0.8888888888888888,
              "#000019"
             ],
             [
              1,
              "#000020"
             ]
            ],
            "type": "contour"
           }
          ],
          "contourcarpet": [
           {
            "colorscale": [
             [
              0,
              "#000011"
             ],
             [
              0.1111111111111111,
              "#000012"
             ],
             [
              0.2222222222222222,
              "#000013"
             ],
             [
              0.3333333333333333,
              "#000014"
             ],
             [
              0.4444444444444444,
              "#000015"
             ],
             [
              0.5555555555555556,
              "#000016"
             ],
             [
              0.6666666666666666,
              "#000017"
             ],
             [
              0.7777777777777778,
              "#000018"
             ],
             [
              0.8888888888888888,
              "#000019"
             ],
             [
              1,
              "#000020"
             ]
            ],
            "type": "contourcarpet"
           }
          ],
          "heatmap": [
           {
            "colorscale": [
             [
              0,
              "#000011"
             ],
             [
              0.1111111111111111,
              "#000012"
             ],
             [
              0.2222222222222222,
              "#000013"
             ],
             [
              0.3333333333333333,
              "#000014"
             ],
             [
              0.4444444444444444,
              "#000015"
             ],
             [
              0.5555555555555556,
              "#000016"
             ],
             [
              0.6666666666666666,
              "#000017"
             ],
             [
              0.7777777777777778,
              "#000018"
             ],
             [
              0.8888888888888888,
              "#000019"
             ],
             [
              1,
              "#000020"
             ]
            ],
            "type": "heatmap"
           }
          ],
          "histogram2d": [
           {
            "colorscale": [
             [
              0,
              "#000011"
             ],
             [
              0.1111111111111111,
              "#000012"
             ],
             [
              0.2222222222222222,
              "#000013"
             ],
             [
              0.3333333333333333,
              "#000014"
             ],
             [
              0.4444444444444444,
              "#000015"
             ],
             [
              0.5555555555555556,
              "#000016"
             ],
             [
              0.6666666666666666,
              "#000017"
             ],
             [
              0.7777777777777778,
              "#000018"
             ],
             [
              0.8888888888888888,
              "#000019"
             ],
             [
              1,
              "#000020"
             ]
            ],
            "type": "histogram2d"
           }
          ],
          "icicle": [
           {
            "textfont": {
             "color": "white"
            },
            "type": "icicle"
           }
          ],
          "sankey": [
           {
            "textfont": {
             "color": "#000036"
            },
            "type": "sankey"
           }
          ],
          "scatter": [
           {
            "marker": {
             "line": {
              "width": 0
             }
            },
            "type": "scatter"
           }
          ],
          "table": [
           {
            "cells": {
             "fill": {
              "color": "#000038"
             },
             "font": {
              "color": "#000037"
             },
             "line": {
              "color": "#000039"
             }
            },
            "header": {
             "fill": {
              "color": "#000040"
             },
             "font": {
              "color": "#000036"
             },
             "line": {
              "color": "#000039"
             }
            },
            "type": "table"
           }
          ],
          "waterfall": [
           {
            "connector": {
             "line": {
              "color": "#000036",
              "width": 2
             }
            },
            "decreasing": {
             "marker": {
              "color": "#000033"
             }
            },
            "increasing": {
             "marker": {
              "color": "#000032"
             }
            },
            "totals": {
             "marker": {
              "color": "#000034"
             }
            },
            "type": "waterfall"
           }
          ]
         },
         "layout": {
          "coloraxis": {
           "colorscale": [
            [
             0,
             "#000011"
            ],
            [
             0.1111111111111111,
             "#000012"
            ],
            [
             0.2222222222222222,
             "#000013"
            ],
            [
             0.3333333333333333,
             "#000014"
            ],
            [
             0.4444444444444444,
             "#000015"
            ],
            [
             0.5555555555555556,
             "#000016"
            ],
            [
             0.6666666666666666,
             "#000017"
            ],
            [
             0.7777777777777778,
             "#000018"
            ],
            [
             0.8888888888888888,
             "#000019"
            ],
            [
             1,
             "#000020"
            ]
           ]
          },
          "colorscale": {
           "diverging": [
            [
             0,
             "#000021"
            ],
            [
             0.1,
             "#000022"
            ],
            [
             0.2,
             "#000023"
            ],
            [
             0.3,
             "#000024"
            ],
            [
             0.4,
             "#000025"
            ],
            [
             0.5,
             "#000026"
            ],
            [
             0.6,
             "#000027"
            ],
            [
             0.7,
             "#000028"
            ],
            [
             0.8,
             "#000029"
            ],
            [
             0.9,
             "#000030"
            ],
            [
             1,
             "#000031"
            ]
           ],
           "sequential": [
            [
             0,
             "#000011"
            ],
            [
             0.1111111111111111,
             "#000012"
            ],
            [
             0.2222222222222222,
             "#000013"
            ],
            [
             0.3333333333333333,
             "#000014"
            ],
            [
             0.4444444444444444,
             "#000015"
            ],
            [
             0.5555555555555556,
             "#000016"
            ],
            [
             0.6666666666666666,
             "#000017"
            ],
            [
             0.7777777777777778,
             "#000018"
            ],
            [
             0.8888888888888888,
             "#000019"
            ],
            [
             1,
             "#000020"
            ]
           ],
           "sequentialminus": [
            [
             0,
             "#000011"
            ],
            [
             0.1111111111111111,
             "#000012"
            ],
            [
             0.2222222222222222,
             "#000013"
            ],
            [
             0.3333333333333333,
             "#000014"
            ],
            [
             0.4444444444444444,
             "#000015"
            ],
            [
             0.5555555555555556,
             "#000016"
            ],
            [
             0.6666666666666666,
             "#000017"
            ],
            [
             0.7777777777777778,
             "#000018"
            ],
            [
             0.8888888888888888,
             "#000019"
            ],
            [
             1,
             "#000020"
            ]
           ]
          },
          "colorway": [
           "#000001",
           "#000002",
           "#000003",
           "#000004",
           "#000005",
           "#000006",
           "#000007",
           "#000008",
           "#000009",
           "#000010"
          ]
         }
        },
        "title": {
         "text": "Top Invested Amount for each city"
        },
        "xaxis": {
         "anchor": "y",
         "domain": [
          0,
          1
         ],
         "title": {
          "text": "City"
         }
        },
        "yaxis": {
         "anchor": "x",
         "domain": [
          0,
          1
         ],
         "title": {
          "text": "sum of Amount"
         }
        }
       }
      }
     },
     "metadata": {},
     "output_type": "display_data"
    }
   ],
   "source": [
    "money_city_df = df.groupby('City')['Amount'].sum().reset_index()\n",
    "money_city_df.sort_values(by='Amount', ascending=False, inplace=True)\n",
    "fig=px.histogram(money_city_df.head(25), 'City', 'Amount', title='Top Invested Amount for each city')\n",
    "fig.show()"
   ]
  },
  {
   "cell_type": "code",
   "execution_count": 25,
   "metadata": {},
   "outputs": [
    {
     "data": {
      "application/vnd.plotly.v1+json": {
       "config": {
        "plotlyServerURL": "https://plot.ly"
       },
       "data": [
        {
         "alignmentgroup": "True",
         "hovertemplate": "Amount=%{x}<br>Investorsname=%{y}<extra></extra>",
         "legendgroup": "",
         "marker": {
          "color": "#000001",
          "pattern": {
           "shape": ""
          }
         },
         "name": "",
         "offsetgroup": "",
         "orientation": "h",
         "showlegend": false,
         "textposition": "auto",
         "type": "bar",
         "x": [
          3900000000,
          2500000000,
          1462000000,
          1400000000,
          1037005836,
          700000000,
          680000000,
          585000000,
          531000000,
          500000000,
          500000000,
          450000000,
          442805032,
          401653508,
          400000000,
          330000000,
          313500000,
          300000000,
          296000000,
          283000000
         ],
         "xaxis": "x",
         "y": [
          "Westbridge Capital",
          "Softbank",
          "SoftBank Group",
          "Microsoft, eBay, Tencent Holdings",
          "Vijay Shekhar Sharma",
          "Steadview Capital and existing investors",
          "Alibaba Group, Ant Financial",
          "Altimeter Capital, DST Global",
          "SoftBank Vision Fund",
          "Alibaba, Foxconn, Softbank",
          "Baillie Gifford, Falcon Edge Capital, Tiger Global, SoftBank Group, DST Global, Didi Kuaidi",
          "Bennett Coleman and Company Ltd (BCCL)",
          "Ratan Tata",
          "Undisclosed investors",
          "DST Global, Steadview Capital, Tiger Global, Accel Partners & Others",
          "SoftBank Group Corp",
          "Tiger Global Management",
          "Alibaba, Helion Venture Partners, Bessemer Venture Partners, Ascent Capital",
          "Naspers",
          "Matrix Partners, Stellaris Venture Partners, Kalaari Capital"
         ],
         "yaxis": "y"
        }
       ],
       "layout": {
        "barmode": "relative",
        "legend": {
         "tracegroupgap": 0
        },
        "template": {
         "data": {
          "candlestick": [
           {
            "decreasing": {
             "line": {
              "color": "#000033"
             }
            },
            "increasing": {
             "line": {
              "color": "#000032"
             }
            },
            "type": "candlestick"
           }
          ],
          "contour": [
           {
            "colorscale": [
             [
              0,
              "#000011"
             ],
             [
              0.1111111111111111,
              "#000012"
             ],
             [
              0.2222222222222222,
              "#000013"
             ],
             [
              0.3333333333333333,
              "#000014"
             ],
             [
              0.4444444444444444,
              "#000015"
             ],
             [
              0.5555555555555556,
              "#000016"
             ],
             [
              0.6666666666666666,
              "#000017"
             ],
             [
              0.7777777777777778,
              "#000018"
             ],
             [
              0.8888888888888888,
              "#000019"
             ],
             [
              1,
              "#000020"
             ]
            ],
            "type": "contour"
           }
          ],
          "contourcarpet": [
           {
            "colorscale": [
             [
              0,
              "#000011"
             ],
             [
              0.1111111111111111,
              "#000012"
             ],
             [
              0.2222222222222222,
              "#000013"
             ],
             [
              0.3333333333333333,
              "#000014"
             ],
             [
              0.4444444444444444,
              "#000015"
             ],
             [
              0.5555555555555556,
              "#000016"
             ],
             [
              0.6666666666666666,
              "#000017"
             ],
             [
              0.7777777777777778,
              "#000018"
             ],
             [
              0.8888888888888888,
              "#000019"
             ],
             [
              1,
              "#000020"
             ]
            ],
            "type": "contourcarpet"
           }
          ],
          "heatmap": [
           {
            "colorscale": [
             [
              0,
              "#000011"
             ],
             [
              0.1111111111111111,
              "#000012"
             ],
             [
              0.2222222222222222,
              "#000013"
             ],
             [
              0.3333333333333333,
              "#000014"
             ],
             [
              0.4444444444444444,
              "#000015"
             ],
             [
              0.5555555555555556,
              "#000016"
             ],
             [
              0.6666666666666666,
              "#000017"
             ],
             [
              0.7777777777777778,
              "#000018"
             ],
             [
              0.8888888888888888,
              "#000019"
             ],
             [
              1,
              "#000020"
             ]
            ],
            "type": "heatmap"
           }
          ],
          "histogram2d": [
           {
            "colorscale": [
             [
              0,
              "#000011"
             ],
             [
              0.1111111111111111,
              "#000012"
             ],
             [
              0.2222222222222222,
              "#000013"
             ],
             [
              0.3333333333333333,
              "#000014"
             ],
             [
              0.4444444444444444,
              "#000015"
             ],
             [
              0.5555555555555556,
              "#000016"
             ],
             [
              0.6666666666666666,
              "#000017"
             ],
             [
              0.7777777777777778,
              "#000018"
             ],
             [
              0.8888888888888888,
              "#000019"
             ],
             [
              1,
              "#000020"
             ]
            ],
            "type": "histogram2d"
           }
          ],
          "icicle": [
           {
            "textfont": {
             "color": "white"
            },
            "type": "icicle"
           }
          ],
          "sankey": [
           {
            "textfont": {
             "color": "#000036"
            },
            "type": "sankey"
           }
          ],
          "scatter": [
           {
            "marker": {
             "line": {
              "width": 0
             }
            },
            "type": "scatter"
           }
          ],
          "table": [
           {
            "cells": {
             "fill": {
              "color": "#000038"
             },
             "font": {
              "color": "#000037"
             },
             "line": {
              "color": "#000039"
             }
            },
            "header": {
             "fill": {
              "color": "#000040"
             },
             "font": {
              "color": "#000036"
             },
             "line": {
              "color": "#000039"
             }
            },
            "type": "table"
           }
          ],
          "waterfall": [
           {
            "connector": {
             "line": {
              "color": "#000036",
              "width": 2
             }
            },
            "decreasing": {
             "marker": {
              "color": "#000033"
             }
            },
            "increasing": {
             "marker": {
              "color": "#000032"
             }
            },
            "totals": {
             "marker": {
              "color": "#000034"
             }
            },
            "type": "waterfall"
           }
          ]
         },
         "layout": {
          "coloraxis": {
           "colorscale": [
            [
             0,
             "#000011"
            ],
            [
             0.1111111111111111,
             "#000012"
            ],
            [
             0.2222222222222222,
             "#000013"
            ],
            [
             0.3333333333333333,
             "#000014"
            ],
            [
             0.4444444444444444,
             "#000015"
            ],
            [
             0.5555555555555556,
             "#000016"
            ],
            [
             0.6666666666666666,
             "#000017"
            ],
            [
             0.7777777777777778,
             "#000018"
            ],
            [
             0.8888888888888888,
             "#000019"
            ],
            [
             1,
             "#000020"
            ]
           ]
          },
          "colorscale": {
           "diverging": [
            [
             0,
             "#000021"
            ],
            [
             0.1,
             "#000022"
            ],
            [
             0.2,
             "#000023"
            ],
            [
             0.3,
             "#000024"
            ],
            [
             0.4,
             "#000025"
            ],
            [
             0.5,
             "#000026"
            ],
            [
             0.6,
             "#000027"
            ],
            [
             0.7,
             "#000028"
            ],
            [
             0.8,
             "#000029"
            ],
            [
             0.9,
             "#000030"
            ],
            [
             1,
             "#000031"
            ]
           ],
           "sequential": [
            [
             0,
             "#000011"
            ],
            [
             0.1111111111111111,
             "#000012"
            ],
            [
             0.2222222222222222,
             "#000013"
            ],
            [
             0.3333333333333333,
             "#000014"
            ],
            [
             0.4444444444444444,
             "#000015"
            ],
            [
             0.5555555555555556,
             "#000016"
            ],
            [
             0.6666666666666666,
             "#000017"
            ],
            [
             0.7777777777777778,
             "#000018"
            ],
            [
             0.8888888888888888,
             "#000019"
            ],
            [
             1,
             "#000020"
            ]
           ],
           "sequentialminus": [
            [
             0,
             "#000011"
            ],
            [
             0.1111111111111111,
             "#000012"
            ],
            [
             0.2222222222222222,
             "#000013"
            ],
            [
             0.3333333333333333,
             "#000014"
            ],
            [
             0.4444444444444444,
             "#000015"
            ],
            [
             0.5555555555555556,
             "#000016"
            ],
            [
             0.6666666666666666,
             "#000017"
            ],
            [
             0.7777777777777778,
             "#000018"
            ],
            [
             0.8888888888888888,
             "#000019"
            ],
            [
             1,
             "#000020"
            ]
           ]
          },
          "colorway": [
           "#000001",
           "#000002",
           "#000003",
           "#000004",
           "#000005",
           "#000006",
           "#000007",
           "#000008",
           "#000009",
           "#000010"
          ]
         }
        },
        "title": {
         "text": "Top Investors investment in Startups"
        },
        "xaxis": {
         "anchor": "y",
         "domain": [
          0,
          1
         ],
         "title": {
          "text": "Amount"
         }
        },
        "yaxis": {
         "anchor": "x",
         "domain": [
          0,
          1
         ],
         "title": {
          "text": "Investorsname"
         }
        }
       }
      }
     },
     "metadata": {},
     "output_type": "display_data"
    }
   ],
   "source": [
    "amount_df= df.groupby('Investorsname')['Amount'].sum().reset_index()\n",
    "amount_df.sort_values(by='Amount', ascending=False, inplace= True)\n",
    "fig = px.bar(amount_df.head(20), x ='Amount', y='Investorsname',title= 'Top Investors investment in Startups')\n",
    "fig.show()"
   ]
  },
  {
   "cell_type": "code",
   "execution_count": 26,
   "metadata": {},
   "outputs": [
    {
     "data": {
      "application/vnd.plotly.v1+json": {
       "config": {
        "plotlyServerURL": "https://plot.ly"
       },
       "data": [
        {
         "alignmentgroup": "True",
         "hovertemplate": "City=%{x}<br>Industrytype=%{y}<extra></extra>",
         "legendgroup": "",
         "marker": {
          "color": "#000001",
          "pattern": {
           "shape": ""
          }
         },
         "name": "",
         "offsetgroup": "",
         "orientation": "v",
         "showlegend": false,
         "textposition": "auto",
         "type": "bar",
         "x": [
          "Bangalore / Palo Alto",
          "Agra",
          "Bangalore/ Bangkok",
          "Siliguri",
          "Karur",
          "Hubli",
          "\\\\xc2\\\\xa0Mumbai",
          "\\\\xc2\\\\xa0New Delhi",
          "\\\\xc2\\\\xa0Bangalore",
          "\\\\xc2\\\\xa0Noida"
         ],
         "xaxis": "x",
         "y": [
          "visual search and discovery platform",
          "eCommerceeCommerce",
          "eCommerceMarketplace App for Bangkok",
          "eCommerceECommerce",
          "eCommerce",
          "eCommerce",
          "\\\\xc2\\\\xa0Premium Loyalty Rewards Point Management",
          "\\\\xc2\\\\xa0Online Study Notes Marketplace\\\\xc2\\\\xa0Warranty Programs Service Administration\\\\xc2\\\\xa0Casual Dining restaurant Chain",
          "\\\\xc2\\\\xa0Online Jewellery Store",
          "\\\\xc2\\\\xa0News Aggregator mobile app"
         ],
         "yaxis": "y"
        }
       ],
       "layout": {
        "barmode": "relative",
        "legend": {
         "tracegroupgap": 0
        },
        "template": {
         "data": {
          "candlestick": [
           {
            "decreasing": {
             "line": {
              "color": "#000033"
             }
            },
            "increasing": {
             "line": {
              "color": "#000032"
             }
            },
            "type": "candlestick"
           }
          ],
          "contour": [
           {
            "colorscale": [
             [
              0,
              "#000011"
             ],
             [
              0.1111111111111111,
              "#000012"
             ],
             [
              0.2222222222222222,
              "#000013"
             ],
             [
              0.3333333333333333,
              "#000014"
             ],
             [
              0.4444444444444444,
              "#000015"
             ],
             [
              0.5555555555555556,
              "#000016"
             ],
             [
              0.6666666666666666,
              "#000017"
             ],
             [
              0.7777777777777778,
              "#000018"
             ],
             [
              0.8888888888888888,
              "#000019"
             ],
             [
              1,
              "#000020"
             ]
            ],
            "type": "contour"
           }
          ],
          "contourcarpet": [
           {
            "colorscale": [
             [
              0,
              "#000011"
             ],
             [
              0.1111111111111111,
              "#000012"
             ],
             [
              0.2222222222222222,
              "#000013"
             ],
             [
              0.3333333333333333,
              "#000014"
             ],
             [
              0.4444444444444444,
              "#000015"
             ],
             [
              0.5555555555555556,
              "#000016"
             ],
             [
              0.6666666666666666,
              "#000017"
             ],
             [
              0.7777777777777778,
              "#000018"
             ],
             [
              0.8888888888888888,
              "#000019"
             ],
             [
              1,
              "#000020"
             ]
            ],
            "type": "contourcarpet"
           }
          ],
          "heatmap": [
           {
            "colorscale": [
             [
              0,
              "#000011"
             ],
             [
              0.1111111111111111,
              "#000012"
             ],
             [
              0.2222222222222222,
              "#000013"
             ],
             [
              0.3333333333333333,
              "#000014"
             ],
             [
              0.4444444444444444,
              "#000015"
             ],
             [
              0.5555555555555556,
              "#000016"
             ],
             [
              0.6666666666666666,
              "#000017"
             ],
             [
              0.7777777777777778,
              "#000018"
             ],
             [
              0.8888888888888888,
              "#000019"
             ],
             [
              1,
              "#000020"
             ]
            ],
            "type": "heatmap"
           }
          ],
          "histogram2d": [
           {
            "colorscale": [
             [
              0,
              "#000011"
             ],
             [
              0.1111111111111111,
              "#000012"
             ],
             [
              0.2222222222222222,
              "#000013"
             ],
             [
              0.3333333333333333,
              "#000014"
             ],
             [
              0.4444444444444444,
              "#000015"
             ],
             [
              0.5555555555555556,
              "#000016"
             ],
             [
              0.6666666666666666,
              "#000017"
             ],
             [
              0.7777777777777778,
              "#000018"
             ],
             [
              0.8888888888888888,
              "#000019"
             ],
             [
              1,
              "#000020"
             ]
            ],
            "type": "histogram2d"
           }
          ],
          "icicle": [
           {
            "textfont": {
             "color": "white"
            },
            "type": "icicle"
           }
          ],
          "sankey": [
           {
            "textfont": {
             "color": "#000036"
            },
            "type": "sankey"
           }
          ],
          "scatter": [
           {
            "marker": {
             "line": {
              "width": 0
             }
            },
            "type": "scatter"
           }
          ],
          "table": [
           {
            "cells": {
             "fill": {
              "color": "#000038"
             },
             "font": {
              "color": "#000037"
             },
             "line": {
              "color": "#000039"
             }
            },
            "header": {
             "fill": {
              "color": "#000040"
             },
             "font": {
              "color": "#000036"
             },
             "line": {
              "color": "#000039"
             }
            },
            "type": "table"
           }
          ],
          "waterfall": [
           {
            "connector": {
             "line": {
              "color": "#000036",
              "width": 2
             }
            },
            "decreasing": {
             "marker": {
              "color": "#000033"
             }
            },
            "increasing": {
             "marker": {
              "color": "#000032"
             }
            },
            "totals": {
             "marker": {
              "color": "#000034"
             }
            },
            "type": "waterfall"
           }
          ]
         },
         "layout": {
          "coloraxis": {
           "colorscale": [
            [
             0,
             "#000011"
            ],
            [
             0.1111111111111111,
             "#000012"
            ],
            [
             0.2222222222222222,
             "#000013"
            ],
            [
             0.3333333333333333,
             "#000014"
            ],
            [
             0.4444444444444444,
             "#000015"
            ],
            [
             0.5555555555555556,
             "#000016"
            ],
            [
             0.6666666666666666,
             "#000017"
            ],
            [
             0.7777777777777778,
             "#000018"
            ],
            [
             0.8888888888888888,
             "#000019"
            ],
            [
             1,
             "#000020"
            ]
           ]
          },
          "colorscale": {
           "diverging": [
            [
             0,
             "#000021"
            ],
            [
             0.1,
             "#000022"
            ],
            [
             0.2,
             "#000023"
            ],
            [
             0.3,
             "#000024"
            ],
            [
             0.4,
             "#000025"
            ],
            [
             0.5,
             "#000026"
            ],
            [
             0.6,
             "#000027"
            ],
            [
             0.7,
             "#000028"
            ],
            [
             0.8,
             "#000029"
            ],
            [
             0.9,
             "#000030"
            ],
            [
             1,
             "#000031"
            ]
           ],
           "sequential": [
            [
             0,
             "#000011"
            ],
            [
             0.1111111111111111,
             "#000012"
            ],
            [
             0.2222222222222222,
             "#000013"
            ],
            [
             0.3333333333333333,
             "#000014"
            ],
            [
             0.4444444444444444,
             "#000015"
            ],
            [
             0.5555555555555556,
             "#000016"
            ],
            [
             0.6666666666666666,
             "#000017"
            ],
            [
             0.7777777777777778,
             "#000018"
            ],
            [
             0.8888888888888888,
             "#000019"
            ],
            [
             1,
             "#000020"
            ]
           ],
           "sequentialminus": [
            [
             0,
             "#000011"
            ],
            [
             0.1111111111111111,
             "#000012"
            ],
            [
             0.2222222222222222,
             "#000013"
            ],
            [
             0.3333333333333333,
             "#000014"
            ],
            [
             0.4444444444444444,
             "#000015"
            ],
            [
             0.5555555555555556,
             "#000016"
            ],
            [
             0.6666666666666666,
             "#000017"
            ],
            [
             0.7777777777777778,
             "#000018"
            ],
            [
             0.8888888888888888,
             "#000019"
            ],
            [
             1,
             "#000020"
            ]
           ]
          },
          "colorway": [
           "#000001",
           "#000002",
           "#000003",
           "#000004",
           "#000005",
           "#000006",
           "#000007",
           "#000008",
           "#000009",
           "#000010"
          ]
         }
        },
        "title": {
         "text": "City With Industrytype"
        },
        "xaxis": {
         "anchor": "y",
         "domain": [
          0,
          1
         ],
         "title": {
          "text": "City"
         }
        },
        "yaxis": {
         "anchor": "x",
         "domain": [
          0,
          1
         ],
         "title": {
          "text": "Industrytype"
         }
        }
       }
      }
     },
     "metadata": {},
     "output_type": "display_data"
    }
   ],
   "source": [
    "hub = df.groupby('City')['Industrytype'].sum().reset_index()\n",
    "hub.sort_values(by='Industrytype',ascending=False,inplace=True)\n",
    "fig=px.bar(hub.head(10),x='City', y='Industrytype', title= 'City With Industrytype')\n",
    "fig.show()"
   ]
  },
  {
   "cell_type": "code",
   "execution_count": 27,
   "metadata": {},
   "outputs": [
    {
     "data": {
      "application/vnd.plotly.v1+json": {
       "config": {
        "plotlyServerURL": "https://plot.ly"
       },
       "data": [
        {
         "hovertemplate": "Startupname=%{x}<br>Industrytype=%{y}<extra></extra>",
         "legendgroup": "",
         "marker": {
          "color": "#000001",
          "symbol": "circle"
         },
         "mode": "markers",
         "name": "",
         "orientation": "v",
         "showlegend": false,
         "type": "scatter",
         "x": [
          "Streamoid",
          "Virtual Logic",
          "Abhibus",
          "EzySolare",
          "Zenify.in",
          "Envoged",
          "FoodAbhi",
          "BetterButter.in",
          "TravelKhana",
          "The Home Salon",
          "Inayo",
          "ShadowFax",
          "SportyBeans",
          "TaskBucks",
          "MyPoolin",
          "ToneTag",
          "Findyahan",
          "NightStay",
          "Puro Wellness",
          "Grex",
          "Butterfly Interactive",
          "Allygrow Technologies",
          "Shopsense",
          "FabAlley",
          "GoFynd"
         ],
         "xaxis": "x",
         "y": [
          "visual search and discovery platform",
          "virtual reality, 3d simulation and stereoscopic products",
          "us ticketing and fleet management platform",
          "solar products and services marketplace",
          "residential rental management platform",
          "pre-used luxury item Marketplacepre-owned Luxury online apparel seller",
          "online tiffin service aggregator",
          "online recipe sharing platform",
          "online meal-booking platform for train travelers",
          "on-demand home beauty and wellness portal",
          "on-demand healthcare marketplace",
          "on-demand delivery service",
          "multi-sport program for preschoolers",
          "mobile-only tasks marketplace",
          "mobile social networkP2P Payments platform",
          "mobile payment software platform",
          "hyperlocal online Services platform",
          "hotel booking app",
          "healthcare",
          "fund raising platform for startups",
          "extra curricular activities marketplace app",
          "engineering services company",
          "ecommerce related software product platform",
          "ecommerce",
          "ecommerce"
         ],
         "yaxis": "y"
        }
       ],
       "layout": {
        "legend": {
         "tracegroupgap": 0
        },
        "template": {
         "data": {
          "candlestick": [
           {
            "decreasing": {
             "line": {
              "color": "#000033"
             }
            },
            "increasing": {
             "line": {
              "color": "#000032"
             }
            },
            "type": "candlestick"
           }
          ],
          "contour": [
           {
            "colorscale": [
             [
              0,
              "#000011"
             ],
             [
              0.1111111111111111,
              "#000012"
             ],
             [
              0.2222222222222222,
              "#000013"
             ],
             [
              0.3333333333333333,
              "#000014"
             ],
             [
              0.4444444444444444,
              "#000015"
             ],
             [
              0.5555555555555556,
              "#000016"
             ],
             [
              0.6666666666666666,
              "#000017"
             ],
             [
              0.7777777777777778,
              "#000018"
             ],
             [
              0.8888888888888888,
              "#000019"
             ],
             [
              1,
              "#000020"
             ]
            ],
            "type": "contour"
           }
          ],
          "contourcarpet": [
           {
            "colorscale": [
             [
              0,
              "#000011"
             ],
             [
              0.1111111111111111,
              "#000012"
             ],
             [
              0.2222222222222222,
              "#000013"
             ],
             [
              0.3333333333333333,
              "#000014"
             ],
             [
              0.4444444444444444,
              "#000015"
             ],
             [
              0.5555555555555556,
              "#000016"
             ],
             [
              0.6666666666666666,
              "#000017"
             ],
             [
              0.7777777777777778,
              "#000018"
             ],
             [
              0.8888888888888888,
              "#000019"
             ],
             [
              1,
              "#000020"
             ]
            ],
            "type": "contourcarpet"
           }
          ],
          "heatmap": [
           {
            "colorscale": [
             [
              0,
              "#000011"
             ],
             [
              0.1111111111111111,
              "#000012"
             ],
             [
              0.2222222222222222,
              "#000013"
             ],
             [
              0.3333333333333333,
              "#000014"
             ],
             [
              0.4444444444444444,
              "#000015"
             ],
             [
              0.5555555555555556,
              "#000016"
             ],
             [
              0.6666666666666666,
              "#000017"
             ],
             [
              0.7777777777777778,
              "#000018"
             ],
             [
              0.8888888888888888,
              "#000019"
             ],
             [
              1,
              "#000020"
             ]
            ],
            "type": "heatmap"
           }
          ],
          "histogram2d": [
           {
            "colorscale": [
             [
              0,
              "#000011"
             ],
             [
              0.1111111111111111,
              "#000012"
             ],
             [
              0.2222222222222222,
              "#000013"
             ],
             [
              0.3333333333333333,
              "#000014"
             ],
             [
              0.4444444444444444,
              "#000015"
             ],
             [
              0.5555555555555556,
              "#000016"
             ],
             [
              0.6666666666666666,
              "#000017"
             ],
             [
              0.7777777777777778,
              "#000018"
             ],
             [
              0.8888888888888888,
              "#000019"
             ],
             [
              1,
              "#000020"
             ]
            ],
            "type": "histogram2d"
           }
          ],
          "icicle": [
           {
            "textfont": {
             "color": "white"
            },
            "type": "icicle"
           }
          ],
          "sankey": [
           {
            "textfont": {
             "color": "#000036"
            },
            "type": "sankey"
           }
          ],
          "scatter": [
           {
            "marker": {
             "line": {
              "width": 0
             }
            },
            "type": "scatter"
           }
          ],
          "table": [
           {
            "cells": {
             "fill": {
              "color": "#000038"
             },
             "font": {
              "color": "#000037"
             },
             "line": {
              "color": "#000039"
             }
            },
            "header": {
             "fill": {
              "color": "#000040"
             },
             "font": {
              "color": "#000036"
             },
             "line": {
              "color": "#000039"
             }
            },
            "type": "table"
           }
          ],
          "waterfall": [
           {
            "connector": {
             "line": {
              "color": "#000036",
              "width": 2
             }
            },
            "decreasing": {
             "marker": {
              "color": "#000033"
             }
            },
            "increasing": {
             "marker": {
              "color": "#000032"
             }
            },
            "totals": {
             "marker": {
              "color": "#000034"
             }
            },
            "type": "waterfall"
           }
          ]
         },
         "layout": {
          "coloraxis": {
           "colorscale": [
            [
             0,
             "#000011"
            ],
            [
             0.1111111111111111,
             "#000012"
            ],
            [
             0.2222222222222222,
             "#000013"
            ],
            [
             0.3333333333333333,
             "#000014"
            ],
            [
             0.4444444444444444,
             "#000015"
            ],
            [
             0.5555555555555556,
             "#000016"
            ],
            [
             0.6666666666666666,
             "#000017"
            ],
            [
             0.7777777777777778,
             "#000018"
            ],
            [
             0.8888888888888888,
             "#000019"
            ],
            [
             1,
             "#000020"
            ]
           ]
          },
          "colorscale": {
           "diverging": [
            [
             0,
             "#000021"
            ],
            [
             0.1,
             "#000022"
            ],
            [
             0.2,
             "#000023"
            ],
            [
             0.3,
             "#000024"
            ],
            [
             0.4,
             "#000025"
            ],
            [
             0.5,
             "#000026"
            ],
            [
             0.6,
             "#000027"
            ],
            [
             0.7,
             "#000028"
            ],
            [
             0.8,
             "#000029"
            ],
            [
             0.9,
             "#000030"
            ],
            [
             1,
             "#000031"
            ]
           ],
           "sequential": [
            [
             0,
             "#000011"
            ],
            [
             0.1111111111111111,
             "#000012"
            ],
            [
             0.2222222222222222,
             "#000013"
            ],
            [
             0.3333333333333333,
             "#000014"
            ],
            [
             0.4444444444444444,
             "#000015"
            ],
            [
             0.5555555555555556,
             "#000016"
            ],
            [
             0.6666666666666666,
             "#000017"
            ],
            [
             0.7777777777777778,
             "#000018"
            ],
            [
             0.8888888888888888,
             "#000019"
            ],
            [
             1,
             "#000020"
            ]
           ],
           "sequentialminus": [
            [
             0,
             "#000011"
            ],
            [
             0.1111111111111111,
             "#000012"
            ],
            [
             0.2222222222222222,
             "#000013"
            ],
            [
             0.3333333333333333,
             "#000014"
            ],
            [
             0.4444444444444444,
             "#000015"
            ],
            [
             0.5555555555555556,
             "#000016"
            ],
            [
             0.6666666666666666,
             "#000017"
            ],
            [
             0.7777777777777778,
             "#000018"
            ],
            [
             0.8888888888888888,
             "#000019"
            ],
            [
             1,
             "#000020"
            ]
           ]
          },
          "colorway": [
           "#000001",
           "#000002",
           "#000003",
           "#000004",
           "#000005",
           "#000006",
           "#000007",
           "#000008",
           "#000009",
           "#000010"
          ]
         }
        },
        "title": {
         "text": "STARTUP WITH INDUSTRYTYPE"
        },
        "xaxis": {
         "anchor": "y",
         "domain": [
          0,
          1
         ],
         "title": {
          "text": "Startupname"
         }
        },
        "yaxis": {
         "anchor": "x",
         "domain": [
          0,
          1
         ],
         "title": {
          "text": "Industrytype"
         }
        }
       }
      }
     },
     "metadata": {},
     "output_type": "display_data"
    }
   ],
   "source": [
    "xf=df.groupby('Startupname')['Industrytype'].sum().reset_index()\n",
    "xf.sort_values(by='Industrytype',ascending= False,inplace=True)\n",
    "fig=px.scatter(xf.head(25),x='Startupname',y='Industrytype',title='STARTUP WITH INDUSTRYTYPE')\n",
    "fig.show()"
   ]
  },
  {
   "cell_type": "code",
   "execution_count": 28,
   "metadata": {},
   "outputs": [
    {
     "data": {
      "application/vnd.plotly.v1+json": {
       "config": {
        "plotlyServerURL": "https://plot.ly"
       },
       "data": [
        {
         "alignmentgroup": "True",
         "hovertemplate": "Amount=%{x}<br>Startupname=%{y}<extra></extra>",
         "legendgroup": "",
         "marker": {
          "color": "#000001",
          "pattern": {
           "shape": ""
          }
         },
         "name": "",
         "offsetgroup": "",
         "orientation": "h",
         "showlegend": false,
         "textposition": "auto",
         "type": "bar",
         "x": [
          4059700000,
          3900000000,
          3185805836,
          984500000,
          870000000,
          700000000,
          700000000,
          688127918,
          507000000,
          486855836,
          435000000,
          400000000,
          350000000,
          300000000,
          297000000,
          285000000,
          283000000,
          270500000,
          270000000,
          267700000,
          235900000,
          232427918,
          231000000,
          230000000,
          226455836,
          220000000,
          218427918,
          215000000,
          210000000,
          200000000,
          200000000,
          200000000,
          190000000,
          182700000,
          178427918,
          175000000,
          169700000,
          167000000,
          162000000,
          150000000,
          150000000,
          145000000,
          140000000,
          140000000,
          140000000,
          137000000,
          135000000,
          120000000,
          118427918,
          116307918
         ],
         "xaxis": "x",
         "y": [
          "Flipkart",
          "Rapido Bike Taxi",
          "Paytm",
          "Ola",
          "Udaan",
          "Flipkart.com",
          "Snapdeal",
          "Ola Cabs",
          "BigBasket",
          "GOQii",
          "Zomato",
          "Olacabs",
          "Oyo Rooms",
          "Automation Anywhere",
          "Grofers",
          "OYO Rooms",
          "Vogo Automotive",
          "Swiggy",
          "Edelweiss",
          "PolicyBazaar",
          "Zilingo",
          "Nykaa",
          "Lenskart.com",
          "Quikr",
          "Meesho",
          "Digital Mall Asia",
          "CarDekho",
          "Delhivery",
          "Foodpanda",
          "Epiq Capital",
          "Paytm Marketplace",
          "BYJU’S",
          "MakeMyTrip",
          "BlackBuck",
          "Byju\\\\xe2\\\\x80\\\\x99s",
          "Hike",
          "Pepperfry",
          "Ecom Express",
          "OyoRooms",
          "\"BYJU\\\\'S\"",
          "Freshworks",
          "CarTrade",
          "FreshVnF",
          "Rivigo",
          "Alteria Capital",
          "FreeCharge",
          "Clumio",
          "Cure Fit",
          "Saavn",
          "Uniphore"
         ],
         "yaxis": "y"
        }
       ],
       "layout": {
        "barmode": "relative",
        "legend": {
         "tracegroupgap": 0
        },
        "template": {
         "data": {
          "candlestick": [
           {
            "decreasing": {
             "line": {
              "color": "#000033"
             }
            },
            "increasing": {
             "line": {
              "color": "#000032"
             }
            },
            "type": "candlestick"
           }
          ],
          "contour": [
           {
            "colorscale": [
             [
              0,
              "#000011"
             ],
             [
              0.1111111111111111,
              "#000012"
             ],
             [
              0.2222222222222222,
              "#000013"
             ],
             [
              0.3333333333333333,
              "#000014"
             ],
             [
              0.4444444444444444,
              "#000015"
             ],
             [
              0.5555555555555556,
              "#000016"
             ],
             [
              0.6666666666666666,
              "#000017"
             ],
             [
              0.7777777777777778,
              "#000018"
             ],
             [
              0.8888888888888888,
              "#000019"
             ],
             [
              1,
              "#000020"
             ]
            ],
            "type": "contour"
           }
          ],
          "contourcarpet": [
           {
            "colorscale": [
             [
              0,
              "#000011"
             ],
             [
              0.1111111111111111,
              "#000012"
             ],
             [
              0.2222222222222222,
              "#000013"
             ],
             [
              0.3333333333333333,
              "#000014"
             ],
             [
              0.4444444444444444,
              "#000015"
             ],
             [
              0.5555555555555556,
              "#000016"
             ],
             [
              0.6666666666666666,
              "#000017"
             ],
             [
              0.7777777777777778,
              "#000018"
             ],
             [
              0.8888888888888888,
              "#000019"
             ],
             [
              1,
              "#000020"
             ]
            ],
            "type": "contourcarpet"
           }
          ],
          "heatmap": [
           {
            "colorscale": [
             [
              0,
              "#000011"
             ],
             [
              0.1111111111111111,
              "#000012"
             ],
             [
              0.2222222222222222,
              "#000013"
             ],
             [
              0.3333333333333333,
              "#000014"
             ],
             [
              0.4444444444444444,
              "#000015"
             ],
             [
              0.5555555555555556,
              "#000016"
             ],
             [
              0.6666666666666666,
              "#000017"
             ],
             [
              0.7777777777777778,
              "#000018"
             ],
             [
              0.8888888888888888,
              "#000019"
             ],
             [
              1,
              "#000020"
             ]
            ],
            "type": "heatmap"
           }
          ],
          "histogram2d": [
           {
            "colorscale": [
             [
              0,
              "#000011"
             ],
             [
              0.1111111111111111,
              "#000012"
             ],
             [
              0.2222222222222222,
              "#000013"
             ],
             [
              0.3333333333333333,
              "#000014"
             ],
             [
              0.4444444444444444,
              "#000015"
             ],
             [
              0.5555555555555556,
              "#000016"
             ],
             [
              0.6666666666666666,
              "#000017"
             ],
             [
              0.7777777777777778,
              "#000018"
             ],
             [
              0.8888888888888888,
              "#000019"
             ],
             [
              1,
              "#000020"
             ]
            ],
            "type": "histogram2d"
           }
          ],
          "icicle": [
           {
            "textfont": {
             "color": "white"
            },
            "type": "icicle"
           }
          ],
          "sankey": [
           {
            "textfont": {
             "color": "#000036"
            },
            "type": "sankey"
           }
          ],
          "scatter": [
           {
            "marker": {
             "line": {
              "width": 0
             }
            },
            "type": "scatter"
           }
          ],
          "table": [
           {
            "cells": {
             "fill": {
              "color": "#000038"
             },
             "font": {
              "color": "#000037"
             },
             "line": {
              "color": "#000039"
             }
            },
            "header": {
             "fill": {
              "color": "#000040"
             },
             "font": {
              "color": "#000036"
             },
             "line": {
              "color": "#000039"
             }
            },
            "type": "table"
           }
          ],
          "waterfall": [
           {
            "connector": {
             "line": {
              "color": "#000036",
              "width": 2
             }
            },
            "decreasing": {
             "marker": {
              "color": "#000033"
             }
            },
            "increasing": {
             "marker": {
              "color": "#000032"
             }
            },
            "totals": {
             "marker": {
              "color": "#000034"
             }
            },
            "type": "waterfall"
           }
          ]
         },
         "layout": {
          "coloraxis": {
           "colorscale": [
            [
             0,
             "#000011"
            ],
            [
             0.1111111111111111,
             "#000012"
            ],
            [
             0.2222222222222222,
             "#000013"
            ],
            [
             0.3333333333333333,
             "#000014"
            ],
            [
             0.4444444444444444,
             "#000015"
            ],
            [
             0.5555555555555556,
             "#000016"
            ],
            [
             0.6666666666666666,
             "#000017"
            ],
            [
             0.7777777777777778,
             "#000018"
            ],
            [
             0.8888888888888888,
             "#000019"
            ],
            [
             1,
             "#000020"
            ]
           ]
          },
          "colorscale": {
           "diverging": [
            [
             0,
             "#000021"
            ],
            [
             0.1,
             "#000022"
            ],
            [
             0.2,
             "#000023"
            ],
            [
             0.3,
             "#000024"
            ],
            [
             0.4,
             "#000025"
            ],
            [
             0.5,
             "#000026"
            ],
            [
             0.6,
             "#000027"
            ],
            [
             0.7,
             "#000028"
            ],
            [
             0.8,
             "#000029"
            ],
            [
             0.9,
             "#000030"
            ],
            [
             1,
             "#000031"
            ]
           ],
           "sequential": [
            [
             0,
             "#000011"
            ],
            [
             0.1111111111111111,
             "#000012"
            ],
            [
             0.2222222222222222,
             "#000013"
            ],
            [
             0.3333333333333333,
             "#000014"
            ],
            [
             0.4444444444444444,
             "#000015"
            ],
            [
             0.5555555555555556,
             "#000016"
            ],
            [
             0.6666666666666666,
             "#000017"
            ],
            [
             0.7777777777777778,
             "#000018"
            ],
            [
             0.8888888888888888,
             "#000019"
            ],
            [
             1,
             "#000020"
            ]
           ],
           "sequentialminus": [
            [
             0,
             "#000011"
            ],
            [
             0.1111111111111111,
             "#000012"
            ],
            [
             0.2222222222222222,
             "#000013"
            ],
            [
             0.3333333333333333,
             "#000014"
            ],
            [
             0.4444444444444444,
             "#000015"
            ],
            [
             0.5555555555555556,
             "#000016"
            ],
            [
             0.6666666666666666,
             "#000017"
            ],
            [
             0.7777777777777778,
             "#000018"
            ],
            [
             0.8888888888888888,
             "#000019"
            ],
            [
             1,
             "#000020"
            ]
           ]
          },
          "colorway": [
           "#000001",
           "#000002",
           "#000003",
           "#000004",
           "#000005",
           "#000006",
           "#000007",
           "#000008",
           "#000009",
           "#000010"
          ]
         }
        },
        "title": {
         "text": "Startup Amount"
        },
        "xaxis": {
         "anchor": "y",
         "domain": [
          0,
          1
         ],
         "title": {
          "text": "Amount"
         }
        },
        "yaxis": {
         "anchor": "x",
         "domain": [
          0,
          1
         ],
         "title": {
          "text": "Startupname"
         }
        }
       }
      }
     },
     "metadata": {},
     "output_type": "display_data"
    }
   ],
   "source": [
    "xr= df.groupby('Startupname')['Amount'].sum().reset_index()\n",
    "xr.sort_values(by='Amount',ascending=False,inplace=True)\n",
    "fig=px.bar(xr.head(50),x='Amount',y='Startupname',title='Startup Amount')\n",
    "fig.show()"
   ]
  },
  {
   "cell_type": "code",
   "execution_count": 29,
   "metadata": {},
   "outputs": [
    {
     "data": {
      "text/plain": [
       "0                           E-Tech\n",
       "1                   Transportation\n",
       "2                       E-commerce\n",
       "3                          FinTech\n",
       "4              Fashion and Apparel\n",
       "5                        Logistics\n",
       "6                      Hospitality\n",
       "7                       Technology\n",
       "8                       E-Commerce\n",
       "9                        Aerospace\n",
       "10                      Technology\n",
       "11    B2B-focused foodtech startup\n",
       "12                      E-Commerce\n",
       "14                           Video\n",
       "15                          Gaming\n",
       "16                      E-Commerce\n",
       "17                        Software\n",
       "18             Health and wellness\n",
       "19                       Education\n",
       "20               Food and Beverage\n",
       "21             Health and Wellness\n",
       "22                   B2B Marketing\n",
       "23                         FinTech\n",
       "24                     Video Games\n",
       "25                            SaaS\n",
       "Name: Industrytype, dtype: object"
      ]
     },
     "execution_count": 29,
     "metadata": {},
     "output_type": "execute_result"
    }
   ],
   "source": [
    "df['Industrytype'].head(25)"
   ]
  },
  {
   "cell_type": "code",
   "execution_count": 30,
   "metadata": {},
   "outputs": [
    {
     "data": {
      "text/plain": [
       "Startup_date                                    20/11/2019\n",
       "Startupname                                         Clumio\n",
       "Industrytype                                          SaaS\n",
       "SubVertical                              Recovery software\n",
       "City                                             San Jose,\n",
       "Investorsname      Altimeter Capital, Sutter Hill Ventures\n",
       "InvestmentnType                                   Series C\n",
       "Amount                                           135000000\n",
       "Name: 25, dtype: object"
      ]
     },
     "execution_count": 30,
     "metadata": {},
     "output_type": "execute_result"
    }
   ],
   "source": [
    "df.loc[25]"
   ]
  },
  {
   "cell_type": "code",
   "execution_count": 31,
   "metadata": {},
   "outputs": [
    {
     "data": {
      "text/plain": [
       "Startup_date       0\n",
       "Startupname        0\n",
       "Industrytype       0\n",
       "SubVertical        0\n",
       "City               0\n",
       "Investorsname      0\n",
       "InvestmentnType    0\n",
       "Amount             0\n",
       "dtype: int64"
      ]
     },
     "execution_count": 31,
     "metadata": {},
     "output_type": "execute_result"
    }
   ],
   "source": [
    "df.isnull().sum()"
   ]
  },
  {
   "attachments": {},
   "cell_type": "markdown",
   "metadata": {},
   "source": []
  },
  {
   "cell_type": "code",
   "execution_count": 32,
   "metadata": {},
   "outputs": [
    {
     "data": {
      "text/plain": [
       "Startup_date       3016\n",
       "Startupname        3016\n",
       "Industrytype       3016\n",
       "SubVertical        3016\n",
       "City               3016\n",
       "Investorsname      3016\n",
       "InvestmentnType    3016\n",
       "Amount             3016\n",
       "dtype: int64"
      ]
     },
     "execution_count": 32,
     "metadata": {},
     "output_type": "execute_result"
    }
   ],
   "source": [
    "df.count()"
   ]
  },
  {
   "cell_type": "code",
   "execution_count": 33,
   "metadata": {},
   "outputs": [
    {
     "data": {
      "text/plain": [
       "Group of Angel Investors                            2\n",
       "Kaizen Private Equity                               1\n",
       "MakeMyTrip                                          1\n",
       "Exfinity Fund, GrowX Ventures.                      1\n",
       "KARSEMVEN Fund                                      1\n",
       "Asia Pacific Internet Group                         1\n",
       "Kalaari Capital, Sequoia Capital                    1\n",
       "Hillhouse Capital, Tybourne Capital                 1\n",
       "People Group (Shaadi.com)                           1\n",
       "Inventus Capital Partners, IDG Ventures             1\n",
       "Mayfield India, Kalaari Capital, Helion Ventures    1\n",
       "Tiger Global                                        1\n",
       "Goldman Sachs, Zodius Capital                       1\n",
       "ANALEC                                              1\n",
       "August Capital Partners, Michael Blakey             1\n",
       "Michael & Susan Dell Foundation                     1\n",
       "Rohit Jain, Amit Rambhia & Others                   1\n",
       "Undisclosed Investors                               1\n",
       "UK based Group of Angel Investors                   1\n",
       "Name: Investorsname, dtype: int64"
      ]
     },
     "execution_count": 33,
     "metadata": {},
     "output_type": "execute_result"
    }
   ],
   "source": [
    "invs=df['Investorsname'].tail(20).value_counts()\n",
    "invs"
   ]
  },
  {
   "cell_type": "code",
   "execution_count": null,
   "metadata": {},
   "outputs": [],
   "source": []
  },
  {
   "cell_type": "code",
   "execution_count": 34,
   "metadata": {},
   "outputs": [],
   "source": [
    "import re\n",
    "def clean_date_str(date_str):\n",
    "    try:\n",
    "        out = re.match(r'\\d\\d/\\d\\d/\\d\\d\\d\\d',date_str)\n",
    "        if out:\n",
    "            return date_str\n",
    "        else:\n",
    "            np.nan\n",
    "    except:\n",
    "        return np.nan\n",
    "\n",
    "df['Clean_date'] = df.Startup_date.apply(clean_date_str)\n"
   ]
  },
  {
   "cell_type": "code",
   "execution_count": 35,
   "metadata": {},
   "outputs": [
    {
     "name": "stderr",
     "output_type": "stream",
     "text": [
      "C:\\Users\\J.A.R.V.I.S\\AppData\\Local\\Temp\\ipykernel_18604\\1144975989.py:1: UserWarning:\n",
      "\n",
      "Parsing dates in DD/MM/YYYY format when dayfirst=False (the default) was specified. This may lead to inconsistently parsed dates! Specify a format to ensure consistent parsing.\n",
      "\n"
     ]
    }
   ],
   "source": [
    "df['Clean_date'] = pd.to_datetime(df['Clean_date'])"
   ]
  },
  {
   "cell_type": "code",
   "execution_count": 36,
   "metadata": {},
   "outputs": [
    {
     "name": "stdout",
     "output_type": "stream",
     "text": [
      "<class 'pandas.core.frame.DataFrame'>\n",
      "Int64Index: 3016 entries, 0 to 3043\n",
      "Data columns (total 9 columns):\n",
      " #   Column           Non-Null Count  Dtype         \n",
      "---  ------           --------------  -----         \n",
      " 0   Startup_date     3016 non-null   object        \n",
      " 1   Startupname      3016 non-null   object        \n",
      " 2   Industrytype     3016 non-null   object        \n",
      " 3   SubVertical      3016 non-null   object        \n",
      " 4   City             3016 non-null   object        \n",
      " 5   Investorsname    3016 non-null   object        \n",
      " 6   InvestmentnType  3016 non-null   object        \n",
      " 7   Amount           3016 non-null   int64         \n",
      " 8   Clean_date       3008 non-null   datetime64[ns]\n",
      "dtypes: datetime64[ns](1), int64(1), object(7)\n",
      "memory usage: 300.2+ KB\n"
     ]
    }
   ],
   "source": [
    "df.info()"
   ]
  },
  {
   "cell_type": "code",
   "execution_count": 37,
   "metadata": {},
   "outputs": [],
   "source": [
    "xd = df['Clean_date'].value_counts(100)"
   ]
  },
  {
   "cell_type": "code",
   "execution_count": 38,
   "metadata": {},
   "outputs": [],
   "source": [
    "df.Clean_date = pd.to_datetime(df.Clean_date)"
   ]
  },
  {
   "cell_type": "code",
   "execution_count": 39,
   "metadata": {},
   "outputs": [
    {
     "data": {
      "text/plain": [
       "0       2020.0\n",
       "1       2020.0\n",
       "2       2020.0\n",
       "3       2020.0\n",
       "4       2020.0\n",
       "         ...  \n",
       "3039    2015.0\n",
       "3040    2015.0\n",
       "3041    2015.0\n",
       "3042    2015.0\n",
       "3043    2015.0\n",
       "Name: Clean_date, Length: 3016, dtype: float64"
      ]
     },
     "execution_count": 39,
     "metadata": {},
     "output_type": "execute_result"
    }
   ],
   "source": [
    "year_df = df.Clean_date.dt.year\n",
    "year_df"
   ]
  },
  {
   "cell_type": "code",
   "execution_count": 40,
   "metadata": {},
   "outputs": [],
   "source": [
    "df['Clean_date'].replace(np.NaN,df['Clean_date'].value_counts().idxmax(),inplace=True)"
   ]
  },
  {
   "cell_type": "code",
   "execution_count": 41,
   "metadata": {},
   "outputs": [
    {
     "data": {
      "text/plain": [
       "0       2020.0\n",
       "1       2020.0\n",
       "2       2020.0\n",
       "3       2020.0\n",
       "4       2020.0\n",
       "         ...  \n",
       "3039    2015.0\n",
       "3040    2015.0\n",
       "3041    2015.0\n",
       "3042    2015.0\n",
       "3043    2015.0\n",
       "Name: Clean_date, Length: 3016, dtype: float64"
      ]
     },
     "execution_count": 41,
     "metadata": {},
     "output_type": "execute_result"
    }
   ],
   "source": [
    "year_df"
   ]
  },
  {
   "cell_type": "code",
   "execution_count": 42,
   "metadata": {},
   "outputs": [
    {
     "data": {
      "application/vnd.plotly.v1+json": {
       "config": {
        "plotlyServerURL": "https://plot.ly"
       },
       "data": [
        {
         "alignmentgroup": "True",
         "hovertemplate": "years=%{x}<br>Industry=%{y}<extra></extra>",
         "legendgroup": "",
         "marker": {
          "color": "#000001",
          "pattern": {
           "shape": ""
          }
         },
         "name": "",
         "offsetgroup": "",
         "orientation": "v",
         "showlegend": false,
         "textposition": "auto",
         "type": "bar",
         "x": [
          2015,
          2016,
          2017,
          2018,
          2019,
          2020
         ],
         "xaxis": "x",
         "y": [
          923,
          992,
          684,
          296,
          106,
          7
         ],
         "yaxis": "y"
        }
       ],
       "layout": {
        "barmode": "relative",
        "legend": {
         "tracegroupgap": 0
        },
        "template": {
         "data": {
          "candlestick": [
           {
            "decreasing": {
             "line": {
              "color": "#000033"
             }
            },
            "increasing": {
             "line": {
              "color": "#000032"
             }
            },
            "type": "candlestick"
           }
          ],
          "contour": [
           {
            "colorscale": [
             [
              0,
              "#000011"
             ],
             [
              0.1111111111111111,
              "#000012"
             ],
             [
              0.2222222222222222,
              "#000013"
             ],
             [
              0.3333333333333333,
              "#000014"
             ],
             [
              0.4444444444444444,
              "#000015"
             ],
             [
              0.5555555555555556,
              "#000016"
             ],
             [
              0.6666666666666666,
              "#000017"
             ],
             [
              0.7777777777777778,
              "#000018"
             ],
             [
              0.8888888888888888,
              "#000019"
             ],
             [
              1,
              "#000020"
             ]
            ],
            "type": "contour"
           }
          ],
          "contourcarpet": [
           {
            "colorscale": [
             [
              0,
              "#000011"
             ],
             [
              0.1111111111111111,
              "#000012"
             ],
             [
              0.2222222222222222,
              "#000013"
             ],
             [
              0.3333333333333333,
              "#000014"
             ],
             [
              0.4444444444444444,
              "#000015"
             ],
             [
              0.5555555555555556,
              "#000016"
             ],
             [
              0.6666666666666666,
              "#000017"
             ],
             [
              0.7777777777777778,
              "#000018"
             ],
             [
              0.8888888888888888,
              "#000019"
             ],
             [
              1,
              "#000020"
             ]
            ],
            "type": "contourcarpet"
           }
          ],
          "heatmap": [
           {
            "colorscale": [
             [
              0,
              "#000011"
             ],
             [
              0.1111111111111111,
              "#000012"
             ],
             [
              0.2222222222222222,
              "#000013"
             ],
             [
              0.3333333333333333,
              "#000014"
             ],
             [
              0.4444444444444444,
              "#000015"
             ],
             [
              0.5555555555555556,
              "#000016"
             ],
             [
              0.6666666666666666,
              "#000017"
             ],
             [
              0.7777777777777778,
              "#000018"
             ],
             [
              0.8888888888888888,
              "#000019"
             ],
             [
              1,
              "#000020"
             ]
            ],
            "type": "heatmap"
           }
          ],
          "histogram2d": [
           {
            "colorscale": [
             [
              0,
              "#000011"
             ],
             [
              0.1111111111111111,
              "#000012"
             ],
             [
              0.2222222222222222,
              "#000013"
             ],
             [
              0.3333333333333333,
              "#000014"
             ],
             [
              0.4444444444444444,
              "#000015"
             ],
             [
              0.5555555555555556,
              "#000016"
             ],
             [
              0.6666666666666666,
              "#000017"
             ],
             [
              0.7777777777777778,
              "#000018"
             ],
             [
              0.8888888888888888,
              "#000019"
             ],
             [
              1,
              "#000020"
             ]
            ],
            "type": "histogram2d"
           }
          ],
          "icicle": [
           {
            "textfont": {
             "color": "white"
            },
            "type": "icicle"
           }
          ],
          "sankey": [
           {
            "textfont": {
             "color": "#000036"
            },
            "type": "sankey"
           }
          ],
          "scatter": [
           {
            "marker": {
             "line": {
              "width": 0
             }
            },
            "type": "scatter"
           }
          ],
          "table": [
           {
            "cells": {
             "fill": {
              "color": "#000038"
             },
             "font": {
              "color": "#000037"
             },
             "line": {
              "color": "#000039"
             }
            },
            "header": {
             "fill": {
              "color": "#000040"
             },
             "font": {
              "color": "#000036"
             },
             "line": {
              "color": "#000039"
             }
            },
            "type": "table"
           }
          ],
          "waterfall": [
           {
            "connector": {
             "line": {
              "color": "#000036",
              "width": 2
             }
            },
            "decreasing": {
             "marker": {
              "color": "#000033"
             }
            },
            "increasing": {
             "marker": {
              "color": "#000032"
             }
            },
            "totals": {
             "marker": {
              "color": "#000034"
             }
            },
            "type": "waterfall"
           }
          ]
         },
         "layout": {
          "coloraxis": {
           "colorscale": [
            [
             0,
             "#000011"
            ],
            [
             0.1111111111111111,
             "#000012"
            ],
            [
             0.2222222222222222,
             "#000013"
            ],
            [
             0.3333333333333333,
             "#000014"
            ],
            [
             0.4444444444444444,
             "#000015"
            ],
            [
             0.5555555555555556,
             "#000016"
            ],
            [
             0.6666666666666666,
             "#000017"
            ],
            [
             0.7777777777777778,
             "#000018"
            ],
            [
             0.8888888888888888,
             "#000019"
            ],
            [
             1,
             "#000020"
            ]
           ]
          },
          "colorscale": {
           "diverging": [
            [
             0,
             "#000021"
            ],
            [
             0.1,
             "#000022"
            ],
            [
             0.2,
             "#000023"
            ],
            [
             0.3,
             "#000024"
            ],
            [
             0.4,
             "#000025"
            ],
            [
             0.5,
             "#000026"
            ],
            [
             0.6,
             "#000027"
            ],
            [
             0.7,
             "#000028"
            ],
            [
             0.8,
             "#000029"
            ],
            [
             0.9,
             "#000030"
            ],
            [
             1,
             "#000031"
            ]
           ],
           "sequential": [
            [
             0,
             "#000011"
            ],
            [
             0.1111111111111111,
             "#000012"
            ],
            [
             0.2222222222222222,
             "#000013"
            ],
            [
             0.3333333333333333,
             "#000014"
            ],
            [
             0.4444444444444444,
             "#000015"
            ],
            [
             0.5555555555555556,
             "#000016"
            ],
            [
             0.6666666666666666,
             "#000017"
            ],
            [
             0.7777777777777778,
             "#000018"
            ],
            [
             0.8888888888888888,
             "#000019"
            ],
            [
             1,
             "#000020"
            ]
           ],
           "sequentialminus": [
            [
             0,
             "#000011"
            ],
            [
             0.1111111111111111,
             "#000012"
            ],
            [
             0.2222222222222222,
             "#000013"
            ],
            [
             0.3333333333333333,
             "#000014"
            ],
            [
             0.4444444444444444,
             "#000015"
            ],
            [
             0.5555555555555556,
             "#000016"
            ],
            [
             0.6666666666666666,
             "#000017"
            ],
            [
             0.7777777777777778,
             "#000018"
            ],
            [
             0.8888888888888888,
             "#000019"
            ],
            [
             1,
             "#000020"
            ]
           ]
          },
          "colorway": [
           "#000001",
           "#000002",
           "#000003",
           "#000004",
           "#000005",
           "#000006",
           "#000007",
           "#000008",
           "#000009",
           "#000010"
          ]
         }
        },
        "title": {
         "text": "Sector covers most number of startup with years"
        },
        "xaxis": {
         "anchor": "y",
         "domain": [
          0,
          1
         ],
         "title": {
          "text": "years"
         }
        },
        "yaxis": {
         "anchor": "x",
         "domain": [
          0,
          1
         ],
         "title": {
          "text": "Industry"
         }
        }
       }
      }
     },
     "metadata": {},
     "output_type": "display_data"
    }
   ],
   "source": [
    "years= df.groupby(year_df)['Industrytype'].count().reset_index()\n",
    "years.columns = ['years','Industry']\n",
    "fig= px.bar(years,'years','Industry',title='Sector covers most number of startup with years')\n",
    "fig.show()\n"
   ]
  },
  {
   "cell_type": "code",
   "execution_count": 43,
   "metadata": {},
   "outputs": [
    {
     "data": {
      "application/vnd.plotly.v1+json": {
       "config": {
        "plotlyServerURL": "https://plot.ly"
       },
       "data": [
        {
         "hovertemplate": "Startupname=%{x}<br>InvestmentnType=%{y}<extra></extra>",
         "legendgroup": "",
         "marker": {
          "color": "#000001",
          "symbol": "circle"
         },
         "mode": "markers",
         "name": "",
         "orientation": "v",
         "showlegend": false,
         "type": "scatter",
         "x": [
          "BYJU’S",
          "Shuttl",
          "Mamaearth",
          "https://www.wealthbucket.in/",
          "Fashor",
          "Pando",
          "Zomato",
          "Ecozen",
          "CarDekho",
          "Dhruva Space",
          "Rivigo",
          "Healthians",
          "Licious",
          "Trell",
          "Rein Games",
          "Lenskart.com",
          "Freshworks",
          "Misters",
          "Sunstone Eduversity Pvt. Ltd",
          "Burger Singh",
          "Healthians",
          "Ninjacart",
          "Aye Finance",
          "SuperGaming",
          "Clumio",
          "eBikeGo",
          "Digital Mall Asia",
          "Medikabazaar",
          "Vogo Automotive",
          "Paytm",
          "Dunzo",
          "Udaan",
          "The Man Company",
          "FPL Technologies",
          "Cashflo",
          "Digital F5",
          "3rdFlix",
          "75F",
          "Myelin Foundry",
          "Atomberg Technology",
          "GOQii",
          "Vyapar App",
          "CarDekho",
          "Progcap",
          "Alteria Capital",
          "Pine Labs",
          "Meesho",
          "Cars24",
          "Uniphore",
          "Zendrive",
          "Lo! Foods",
          "Tala",
          "INDwealth",
          "HungerBox",
          "AdmitKard",
          "Mishry Reviews",
          "Grofers",
          "Rapido Bike Taxi",
          "RenewBuy",
          "Atlan",
          "WizCounsel",
          "Ola Cabs",
          "Uniphore",
          "Daalchini Technologies",
          "\"BYJU\\\\'S\"",
          "Moglix",
          "Ezyhaul",
          "Indus OS",
          "HealthAssure",
          "House of Msasaba",
          "Board Infinity",
          "NoBroker",
          "Bira91",
          "Avail Finance",
          "BharatPe",
          "Recykal",
          "Agara Labs",
          "Chakr Innovation",
          "Pratilipi",
          "Bolo App",
          "OkCredit",
          "Biz2Credit",
          "Vogo Automotive Pvt. Ltd.",
          "Leegality",
          "Ola Electric",
          "Saahas Zero Waste",
          "StyleDotMe",
          "BlackBuck",
          "Zenoti",
          "Ather Energy",
          "FreshVnF",
          "GlowRoad",
          "Bira91",
          "Kuvera",
          "Medlife",
          "Kabadiwala",
          "Tripoto",
          "Azah",
          "Setu",
          "Toppr",
          "Craftsvilla",
          "Unacademy",
          "CleverTap",
          "My Healthcare",
          "KrazyBee",
          "Shuttl",
          "Increff",
          "FleetX",
          "Zilingo",
          "NanoClean Global",
          "OyoRooms",
          "CarDekho",
          "Vyome Therapeutics Inc.",
          "Samunnati Financial Intermediation & Services Pvt. Ltd",
          "Manch",
          "UrbanClap Technologies Pvt. Ltd",
          "Guiddoo",
          "Career Anna",
          "Nagpur Wholesale",
          "ShopKirana",
          "BuildSupply",
          "GoDesi",
          "Veritas Finance Ltd.",
          "Meesho",
          "Mobile Premier League",
          "A&R Bon Vivants",
          "Blackbuck",
          "MilkBAsket",
          "DriveU",
          "CleanseCar",
          "Automation Anywhere",
          "HealthifyMe",
          "Genius Corner",
          "Aavishkaar-Intellecap Group",
          "Skillbox",
          "Signzy",
          "Engineer.ai",
          "InCred Finance",
          "Roposo",
          "Northmist",
          "Origo Commodities India Pvt. Ltd",
          "Grover Zampa",
          "Droom",
          "Innov8",
          "Blackbuck",
          "LetsTransport",
          "Netmeds",
          "Udaan",
          "Daily hunt",
          "HappyGoEasy",
          "Nykaa",
          "Mad Street Den",
          "Dream11",
          "MamaEarth",
          "AutoGrid",
          "Pharmeasy",
          "Upwards",
          "Kissht",
          "dishq",
          "HealthFin",
          "Samosa Labs",
          "ZiffyHomes",
          "ShopX",
          "MakeMyTrip",
          "Hansel io",
          "Metro Bikes",
          "Phone Pe",
          "quizizz",
          "Happy EMI",
          "Inthree",
          "Observe AI",
          "EazyDiner",
          "RawPressery",
          "Pi Ventures",
          "Revv",
          "ZestMoney",
          "Shubh Loans",
          "MyUpchar",
          "Narvar",
          "Leena AI",
          "Biryani By Kilo",
          "Anchanto",
          "Loan Tap",
          "PolicyBazaar",
          "zippserv",
          "Groww",
          "Avenue Growth",
          "iNICU",
          "Kinara Capital",
          "Shop 101",
          "Sambandh",
          "19th mile",
          "5th Vital",
          "MEngage",
          "Ofbusiness",
          "Cars24",
          "The Ken",
          "Book My Show",
          "PaySense",
          "VTION",
          "Log9 Materials",
          "kidovators",
          "Digit",
          "Black Soil",
          "Trell",
          "iqlect",
          "Entropik",
          "Bitla Software",
          "TheCapitalNet",
          "Shuttl",
          "Cure Fit",
          "Five Star Group",
          "Healthsignz",
          "CoinTribe",
          "Digiconectt",
          "Kashmir Box",
          "Crowdera",
          "Zoctr",
          "Annapurna Finance",
          "Meesho",
          "AyeFinance",
          "Theranosis",
          "Alpha Capital",
          "eshakti",
          "Daily Ninja",
          "NirogStreet",
          "Nivesh",
          "What\\\\xe2\\\\x80\\\\x99s Up Life",
          "HomeLane",
          "Network Intelligence",
          "Tynor Othontics",
          "Elucidata",
          "Chrysalis",
          "RentSher",
          "Drip capital",
          "WickedRide",
          "PolicyBazaar",
          "HipBar",
          "Sqqrl",
          "Paytm",
          "Sigtuple",
          "Wow Express",
          "Front Desk AI",
          "Edureka",
          "Numeroseven",
          "OpenTap",
          "Bizongo",
          "Disprz",
          "i3sysytems",
          "Earth Food",
          "Nykaa",
          "mfine",
          "Rocketium",
          "MilkBasket",
          "Vola",
          "Cashkumar",
          "Edyoo",
          "Aashiyaan",
          "Smartivity",
          "Bonphulapl",
          "Acko",
          "HWell24",
          "Toffee",
          "Tonetag",
          "Events High",
          "Stellaps",
          "Credright",
          "Fitternity",
          "Synctag",
          "Benepik",
          "Varthana",
          "IndigoLearn",
          "Vedantu",
          "Kaleidofin",
          "Pipabella",
          "Elemential",
          "Loanzen",
          "TravelTriangle",
          "Letsmd",
          "AyeFinance",
          "mintifi",
          "icanstay",
          "Pregbuddy",
          "Coverfox",
          "Lenskart",
          "mamaearth",
          "Fyle Technologies",
          "True Balance",
          "Visit",
          "Doxper",
          "Nykaa",
          "Capital Float",
          "Trip shelf",
          "POPxo",
          "RailYatri",
          "1mg",
          "Rubique",
          "Samco",
          "MyLoanCare",
          "PharmEasy",
          "Buddy4studdy",
          "Urban Ladder",
          "Kuvera",
          "Gramophone",
          "Wellthy",
          "MedGenome",
          "Finova Capital",
          "Hotelogix",
          "Livehealth",
          "Ad2pro",
          "Coverfox",
          "Pepperfry",
          "Magicpin",
          "HealthCare",
          "PineLabs",
          "Stumagz",
          "AvailFinance",
          "Grofers",
          "Fingerlix",
          "Karma Healthcare",
          "Zappfresh",
          "CustomerSucessBox",
          "One Labs",
          "GigIndia",
          "Chargebee",
          "i2i Funding",
          "Slang Labs",
          "UrbanPiper",
          "Cash Suvidha",
          "Smartcoin",
          "The Print",
          "DriveU",
          "Fynd",
          "BigBasket",
          "Zomato",
          "Pratilipi",
          "Asia Institute Of Medical Science",
          "CollegeDekho",
          "Foodmemories",
          "Healthi",
          "Swiggy",
          "Shape",
          "Icertis",
          "healthifyme",
          "MedTel",
          "Rupeek",
          "WebEngage",
          "Lendingkart",
          "Wydr",
          "Cashify",
          "holachef",
          "Awaaz De",
          "IMAX Program",
          "Littlemore",
          "Toppr",
          "Shirsa Labs",
          "MoneyOnMobile",
          "PetSutra",
          "Infibeam",
          "happay",
          "Fincash",
          "AyeFinance",
          "Agricxlab",
          "Udaan",
          "Capillary",
          "The Healthy Billions",
          "HighRadius",
          "Avishkaar Box",
          "Planys Technologies",
          "Lollypop",
          "Trilyo",
          "Gaana",
          "Credy",
          "Predible Health",
          "CleverTap",
          "EarlySalary",
          "WOTU",
          "DAAKI",
          "Lendingkart",
          "Tapzo",
          "Appario Retail Pvt Ltd.",
          "Samunnati",
          "Sahajanand Medical Technologies",
          "Kuants",
          "Razorpay",
          "Streak",
          "pi Ventures",
          "Newgen Software",
          "Rubix",
          "ShareChat",
          "Paperflite",
          "HungerBox",
          "Skillate",
          "OptaCredit",
          "AEON Learning",
          "Milkbasket",
          "NeoGrowth Credit",
          "Rao IIT Academy",
          "Aye Finance",
          "Glassic",
          "GreyAtom",
          "Axio",
          "eKincare",
          "The Wedding Brigade",
          "PeeSafe",
          "BrowserStack",
          "Scapic",
          "MoneyOnMobile",
          "CureFit",
          "iNurture",
          "Strata Enviro",
          "Dunzo",
          "Tata Housing",
          "HandyTrain",
          "Mobycy",
          "Greenlight Planet",
          "Fintobox",
          "Mswipe",
          "The Label Life",
          "Cygnus Hospitals",
          "eShakti",
          "Inshorts",
          "Vahdam Tea",
          "Logic Roots",
          "Project Mudra",
          "Furlenco",
          "I Can Stay",
          "Fracktal Works",
          "Simility",
          "Shopholix",
          "MindTickle",
          "Nazara Technologies",
          "DocsApp",
          "Capita World",
          "Tea Box",
          "Transversal Technologies",
          "Curofy",
          "HomeLane",
          "WeDoSky",
          "Purplle",
          "Sky Met Weather",
          "Springboard",
          "Peel Works",
          "9Stacks",
          "Your Quote",
          "Spandana Sphoorty",
          "Indus OS",
          "EasyEcom",
          "IGP.com",
          "Specsmakers",
          "Garage On Road",
          "Foyr.com",
          "Prest Loans",
          "AadharAPI.com",
          "FreshBoxx",
          "Vagupu",
          "HalaPlay",
          "Kalpnik Technologies",
          "Hevo Data",
          "Smart Karma",
          "Leverage Edu",
          "Crayon Data",
          "DocTalk",
          "CoveIoT",
          "TalentEdge",
          "Fisdom",
          "FarmLink",
          "OpenApp",
          "NoPaperForms",
          "Tilite Technologies Pvt. Ltd",
          "Mobiliz AR",
          "Qubole",
          "Happily Unmarried",
          "Universal Sportsbiz Pvt. Ltd",
          "Hungry Foal",
          "Active AI",
          "Sumeru",
          "ElderAid Wellness",
          "Omnia Information",
          "Josh Talks",
          "Reniso",
          "Kanhaiya",
          "Perspectico",
          "ONN Bikes",
          "Rapido",
          "Heckyl",
          "Nuvepro",
          "RedBook",
          "Portea",
          "Credit Mate",
          "Epiq Capital",
          "MiStay",
          "WittyFeed",
          "IDG Ventures",
          "TempGo",
          "Edelweiss",
          "ERA",
          "Smaaash",
          "Chumbak",
          "FR8"
         ],
         "xaxis": "x",
         "y": [
          "Private Equity Round",
          "Series C",
          "Series B",
          "Pre-series A",
          "Seed Round",
          "Series A",
          "Private Equity Round",
          "Series A",
          "Series D",
          "Seed",
          "Series F",
          "Series C",
          "Series E",
          "Seed Round",
          "Seed Round",
          "Series G",
          "Series H",
          "Series B",
          "Seed",
          "Venture",
          "Series B",
          "Debt Funding",
          "Debt Funding",
          "Seed Funding",
          "Series C",
          "Seed",
          "Seed Funding",
          "Series B",
          "Series B",
          "Funding Round",
          "Series D",
          "Series D",
          "Corporate Round",
          "Maiden Round",
          "Series A",
          "Private Equity Round",
          "pre-series A",
          "Series A",
          "Seed",
          "Series A",
          "Series C",
          "Series A",
          "Series C",
          "Series A",
          "Single Venture",
          "Corporate Round",
          "Series D",
          "Series D",
          "Series C",
          "Series B",
          "Seed Round",
          "Series D",
          "Venture Round",
          "Series C",
          "Seed Round",
          "Series A",
          "Series F",
          "Series B",
          "Series B",
          "Pre-Series A",
          "Angel",
          "Series J",
          "Series C",
          "Seed Round",
          "Private Equity Round",
          "Series D",
          "Series B",
          "Series B",
          "Series A",
          "Series A",
          "Angel Round",
          "Series C",
          "Debt Funding",
          "Series A",
          "Series B",
          "pre-Series A",
          "pre-Series A",
          "Series A",
          "Series B",
          "Seed Funding",
          "Series A",
          "Series B",
          "Debt Funding",
          "Series A",
          "Series A",
          "Venture - Series Unknown",
          "Bridge Round",
          "Series D",
          "Series C",
          "Series C",
          "Seed Round",
          "Series B",
          "Series B",
          "Series A",
          "Private Equity",
          "Private Equity",
          "Series B",
          "Seed Funding",
          "Seed Funding",
          "Debt and Preference capital",
          "Inhouse Funding",
          "Seed/ Angel Funding",
          "Series B",
          "Series A",
          "Debt",
          "Venture Round",
          "Series A",
          "Pre Series A",
          "Series D",
          "Series A",
          "Equity",
          "Series C",
          "Series D",
          "Debt-Funding",
          "Seed Funding",
          "Series D",
          "Pre-Series A",
          "Pre-Series A",
          "Seed Funding",
          "Seed Funding",
          "Series A",
          "Seed/ Angel Funding",
          "Series D",
          "Series C",
          "Series A",
          "Equity",
          "Series A",
          "Series B",
          "Mezzanine",
          "Seed/ Angel Funding",
          "Series B",
          "Series B (Extension)",
          "Seed Funding",
          "Equity Based Funding",
          "Seed Funding",
          "Series A",
          "Series A",
          "Private Equity",
          "Series B",
          "Seed/ Angel Funding",
          "Seed/ Angel Funding",
          "Private Equity",
          "Series E",
          "Pre-Series A",
          "Private Funding",
          "Series C",
          "Private Equity",
          "Private Equity",
          "Private Equity",
          "Private Equity",
          "Private Equity",
          "Private Equity",
          "Private Equity",
          "Private Equity",
          "Private Equity",
          "Debt Funding",
          "Private Equity",
          "Private Equity",
          "Seed/ Angel Funding",
          "Seed/ Angel Funding",
          "Private Equity",
          "Private Equity",
          "Private Equity",
          "Private Equity",
          "Seed/ Angel Funding",
          "Private Equity",
          "Private Equity",
          "Seed/ Angel Funding",
          "Seed/ Angel Funding",
          "Seed/ Angel Funding",
          "Private Equity",
          "Private Equity",
          "Debt Funding",
          "Private Equity",
          "Private Equity",
          "Private Equity",
          "Private Equity",
          "Private Equity",
          "Private Equity",
          "Seed/ Angel Funding",
          "Seed/ Angel Funding",
          "Private Equity",
          "Private Equity",
          "Private Equity",
          "Seed/ Angel Funding",
          "Seed/ Angel Funding",
          "Seed/ Angel Funding",
          "Seed/ Angel Funding",
          "Private Equity",
          "Private Equity",
          "Private Equity",
          "Seed/ Angel Funding",
          "Seed/ Angel Funding",
          "Seed/ Angel Funding",
          "Private Equity",
          "Private Equity",
          "Seed/ Angel Funding",
          "Private Equity",
          "Private Equity",
          "Seed/ Angel Funding",
          "Seed/ Angel Funding",
          "Seed/ Angel Funding",
          "Private Equity",
          "Private Equity",
          "Seed/ Angel Funding",
          "Seed/ Angel Funding",
          "Seed/ Angel Funding",
          "Private Equity",
          "Private Equity",
          "Private Equity",
          "Private Equity",
          "Private Equity",
          "Seed/ Angel Funding",
          "Private Equity",
          "Seed/ Angel Funding",
          "Seed/ Angel Funding",
          "Seed/ Angel Funding",
          "Seed/ Angel Funding",
          "Private Equity",
          "Private Equity",
          "Private Equity",
          "Seed/ Angel Funding",
          "Private Equity",
          "Private Equity",
          "Seed/ Angel Funding",
          "Seed/ Angel Funding",
          "Seed/ Angel Funding",
          "Seed/ Angel Funding",
          "Seed/ Angel Funding",
          "Private Equity",
          "Private Equity",
          "Seed/ Angel Funding",
          "Seed/ Angel Funding",
          "Seed/ Angel Funding",
          "Private Equity",
          "Private Equity",
          "Private Equity",
          "Private Equity",
          "Seed/ Angel Funding",
          "Private Equity",
          "Private Equity",
          "Private Equity",
          "Seed/ Angel Funding",
          "Seed/ Angel Funding",
          "Seed/ Angel Funding",
          "Seed / Angel Funding",
          "Private Equity",
          "Seed / Angel Funding",
          "Seed / Angel Funding",
          "Seed / Angel Funding",
          "Private Equity",
          "Private Equity",
          "Seed/ Angel Funding",
          "Private Equity",
          "Seed/ Angel Funding",
          "Seed/ Angel Funding",
          "Seed/ Angel Funding",
          "Seed/ Angel Funding",
          "Seed/ Angel Funding",
          "Seed/ Angel Funding",
          "Seed/ Angel Funding",
          "Seed/ Angel Funding",
          "Seed/ Angel Funding",
          "Private Equity",
          "Private Equity",
          "Private Equity",
          "Seed/ Angel Funding",
          "Private Equity",
          "Seed / Angel Funding",
          "Seed / Angel Funding",
          "Private Equity",
          "Seed / Angel Funding",
          "Private Equity",
          "Seed / Angel Funding",
          "Seed / Angel Funding",
          "Seed / Angel Funding",
          "Seed / Angel Funding",
          "Private Equity",
          "Seed / Angel Funding",
          "Debt Funding",
          "Seed / Angel Funding",
          "Seed / Angel Funding",
          "Seed / Angel Funding",
          "Private Equity",
          "Private Equity",
          "Private Equity",
          "Seed / Angel Funding",
          "Private Equity",
          "Private Equity",
          "Seed / Angel Funding",
          "Private Equity",
          "Private Equity",
          "Seed / Angel Funding",
          "Private Equity",
          "Private Equity",
          "Private Equity",
          "Private Equity",
          "Private Equity",
          "Seed / Angel Funding",
          "Private Equity",
          "Private Equity",
          "Private Equity",
          "Seed / Angel Funding",
          "Seed/Angel Funding",
          "Private Equity",
          "Private Equity",
          "Private Equity",
          "Private Equity",
          "Seed / Angel Funding",
          "Debt Funding",
          "Private Equity",
          "Private Equity",
          "Debt Funding",
          "Seed / Angel Funding",
          "Private Equity",
          "Seed / Angel Funding",
          "Private Equity",
          "Private Equity",
          "Debt Funding",
          "Seed / Angel Funding",
          "Seed / Angel Funding",
          "Seed / Angel Funding",
          "Private Equity",
          "Seed / Angel Funding",
          "Private Equity",
          "Seed / Angel Funding",
          "Seed / Angel Funding",
          "Seed / Angel Funding",
          "Seed / Angel Funding",
          "Seed / Angel Funding",
          "Seed / Angel Funding",
          "Private Equity",
          "Seed / Angel Funding",
          "Private Equity",
          "Private Equity",
          "Private Equity",
          "Private Equity",
          "Private Equity",
          "Seed funding",
          "Private Equity",
          "Private Equity",
          "Seed / Angle Funding",
          "Private Equity",
          "Private Equity",
          "Private Equity",
          "Private Equity",
          "Private Equity",
          "Private Equity",
          "Private Equity",
          "Debt Funding",
          "Seed / Angle Funding",
          "Seed / Angle Funding",
          "Private Equity",
          "Private Equity",
          "Private Equity",
          "Private Equity",
          "Private Equity",
          "Seed / Angel Funding",
          "Private Equity",
          "Seed / Angel Funding",
          "Seed / Angel Funding",
          "Private Equity",
          "Seed / Angel Funding",
          "Private Equity",
          "Private Equity",
          "Private Equity",
          "Private Equity",
          "Private Equity",
          "Private Equity",
          "Seed / Angel Funding",
          "Seed / Angel Funding",
          "Private Equity",
          "Seed / Angel Funding",
          "Seed/Angel Funding",
          "Angel / Seed Funding",
          "Private",
          "Angel / Seed Funding",
          "Angel / Seed Funding",
          "Debt Funding",
          "Private Equity",
          "Private Equity",
          "Private Equity",
          "Private Equity",
          "Angel / Seed Funding",
          "Private Equity",
          "Angel / Seed Funding",
          "Private Equity",
          "Private Equity",
          "Private Equity",
          "Private Equity",
          "Angel / Seed Funding",
          "Private Equity",
          "Private Equity",
          "Private Equity",
          "Private Equity",
          "Private Equity",
          "Private Equity",
          "Structured Debt",
          "Term Loan",
          "Angel / Seed Funding",
          "Private Equity",
          "Private Equity",
          "Private Equity",
          "Private Equity",
          "Private Equity",
          "Private Equity",
          "Angel / Seed Funding",
          "Private Equity",
          "Debt Funding",
          "Private Equity",
          "Private Equity",
          "Private Equity",
          "Private Equity",
          "Private Equity",
          "Seed/Angel Funding",
          "Private Equity",
          "Private Equity",
          "Private Equity",
          "Private Equity",
          "Seed/Angel Funding",
          "Debt Funding",
          "Private Equity",
          "Private Equity",
          "Seed/Angel Funding",
          "Seed/Angel Funding",
          "Debt Funding",
          "Private Equity",
          "Seed/Angel Funding",
          "Private Equity",
          "Seed/Angel Funding",
          "Private Equity",
          "Private Equity",
          "Private Equity",
          "Private Equity",
          "Private Equity",
          "Private Equity",
          "Seed/Angel Funding",
          "Private Equity",
          "Private Equity",
          "Seed/Angel Funding",
          "Private Equity",
          "Private Equity",
          "Private Equity",
          "Private Equity",
          "Private Equity",
          "Private Equity",
          "Private Equity",
          "Seed/Angel Funding",
          "Private Equity",
          "Private Equity",
          "Private Equity",
          "Private Equity",
          "Seed Funding",
          "Seed Funding",
          "Seed Funding",
          "Seed Funding",
          "Seed Funding",
          "Seed Funding",
          "Private Equity",
          "Private Equity",
          "Seed Funding",
          "Seed Funding",
          "Private Equity",
          "Private Equity",
          "Private Equity",
          "Private Equity",
          "Private Equity",
          "Private Equity",
          "Seed Funding",
          "Seed Funding",
          "Private Equity",
          "Private Equity",
          "Private Equity",
          "PrivateEquity",
          "Seed Funding",
          "Private Equity",
          "Seed Funding",
          "Angel Funding",
          "Private Equity",
          "Private Equity",
          "Seed Funding",
          "Seed/Angel Funding",
          "Seed/Angel Funding",
          "Seed/Angel Funding",
          "Seed/Angel Funding",
          "Private Equity",
          "Seed/Angel Funding",
          "Seed/Angel Funding",
          "Private Equity",
          "Private Equity",
          "Private Equity",
          "Seed/Angel Funding",
          "Seed/Angel Funding",
          "Private Equity",
          "Seed/Angel Funding",
          "Private Equity",
          "Seed/Angel Funding",
          "Private Equity",
          "Private Equity",
          "Debt Funding"
         ],
         "yaxis": "y"
        }
       ],
       "layout": {
        "legend": {
         "tracegroupgap": 0
        },
        "margin": {
         "t": 60
        },
        "template": {
         "data": {
          "candlestick": [
           {
            "decreasing": {
             "line": {
              "color": "#000033"
             }
            },
            "increasing": {
             "line": {
              "color": "#000032"
             }
            },
            "type": "candlestick"
           }
          ],
          "contour": [
           {
            "colorscale": [
             [
              0,
              "#000011"
             ],
             [
              0.1111111111111111,
              "#000012"
             ],
             [
              0.2222222222222222,
              "#000013"
             ],
             [
              0.3333333333333333,
              "#000014"
             ],
             [
              0.4444444444444444,
              "#000015"
             ],
             [
              0.5555555555555556,
              "#000016"
             ],
             [
              0.6666666666666666,
              "#000017"
             ],
             [
              0.7777777777777778,
              "#000018"
             ],
             [
              0.8888888888888888,
              "#000019"
             ],
             [
              1,
              "#000020"
             ]
            ],
            "type": "contour"
           }
          ],
          "contourcarpet": [
           {
            "colorscale": [
             [
              0,
              "#000011"
             ],
             [
              0.1111111111111111,
              "#000012"
             ],
             [
              0.2222222222222222,
              "#000013"
             ],
             [
              0.3333333333333333,
              "#000014"
             ],
             [
              0.4444444444444444,
              "#000015"
             ],
             [
              0.5555555555555556,
              "#000016"
             ],
             [
              0.6666666666666666,
              "#000017"
             ],
             [
              0.7777777777777778,
              "#000018"
             ],
             [
              0.8888888888888888,
              "#000019"
             ],
             [
              1,
              "#000020"
             ]
            ],
            "type": "contourcarpet"
           }
          ],
          "heatmap": [
           {
            "colorscale": [
             [
              0,
              "#000011"
             ],
             [
              0.1111111111111111,
              "#000012"
             ],
             [
              0.2222222222222222,
              "#000013"
             ],
             [
              0.3333333333333333,
              "#000014"
             ],
             [
              0.4444444444444444,
              "#000015"
             ],
             [
              0.5555555555555556,
              "#000016"
             ],
             [
              0.6666666666666666,
              "#000017"
             ],
             [
              0.7777777777777778,
              "#000018"
             ],
             [
              0.8888888888888888,
              "#000019"
             ],
             [
              1,
              "#000020"
             ]
            ],
            "type": "heatmap"
           }
          ],
          "histogram2d": [
           {
            "colorscale": [
             [
              0,
              "#000011"
             ],
             [
              0.1111111111111111,
              "#000012"
             ],
             [
              0.2222222222222222,
              "#000013"
             ],
             [
              0.3333333333333333,
              "#000014"
             ],
             [
              0.4444444444444444,
              "#000015"
             ],
             [
              0.5555555555555556,
              "#000016"
             ],
             [
              0.6666666666666666,
              "#000017"
             ],
             [
              0.7777777777777778,
              "#000018"
             ],
             [
              0.8888888888888888,
              "#000019"
             ],
             [
              1,
              "#000020"
             ]
            ],
            "type": "histogram2d"
           }
          ],
          "icicle": [
           {
            "textfont": {
             "color": "white"
            },
            "type": "icicle"
           }
          ],
          "sankey": [
           {
            "textfont": {
             "color": "#000036"
            },
            "type": "sankey"
           }
          ],
          "scatter": [
           {
            "marker": {
             "line": {
              "width": 0
             }
            },
            "type": "scatter"
           }
          ],
          "table": [
           {
            "cells": {
             "fill": {
              "color": "#000038"
             },
             "font": {
              "color": "#000037"
             },
             "line": {
              "color": "#000039"
             }
            },
            "header": {
             "fill": {
              "color": "#000040"
             },
             "font": {
              "color": "#000036"
             },
             "line": {
              "color": "#000039"
             }
            },
            "type": "table"
           }
          ],
          "waterfall": [
           {
            "connector": {
             "line": {
              "color": "#000036",
              "width": 2
             }
            },
            "decreasing": {
             "marker": {
              "color": "#000033"
             }
            },
            "increasing": {
             "marker": {
              "color": "#000032"
             }
            },
            "totals": {
             "marker": {
              "color": "#000034"
             }
            },
            "type": "waterfall"
           }
          ]
         },
         "layout": {
          "coloraxis": {
           "colorscale": [
            [
             0,
             "#000011"
            ],
            [
             0.1111111111111111,
             "#000012"
            ],
            [
             0.2222222222222222,
             "#000013"
            ],
            [
             0.3333333333333333,
             "#000014"
            ],
            [
             0.4444444444444444,
             "#000015"
            ],
            [
             0.5555555555555556,
             "#000016"
            ],
            [
             0.6666666666666666,
             "#000017"
            ],
            [
             0.7777777777777778,
             "#000018"
            ],
            [
             0.8888888888888888,
             "#000019"
            ],
            [
             1,
             "#000020"
            ]
           ]
          },
          "colorscale": {
           "diverging": [
            [
             0,
             "#000021"
            ],
            [
             0.1,
             "#000022"
            ],
            [
             0.2,
             "#000023"
            ],
            [
             0.3,
             "#000024"
            ],
            [
             0.4,
             "#000025"
            ],
            [
             0.5,
             "#000026"
            ],
            [
             0.6,
             "#000027"
            ],
            [
             0.7,
             "#000028"
            ],
            [
             0.8,
             "#000029"
            ],
            [
             0.9,
             "#000030"
            ],
            [
             1,
             "#000031"
            ]
           ],
           "sequential": [
            [
             0,
             "#000011"
            ],
            [
             0.1111111111111111,
             "#000012"
            ],
            [
             0.2222222222222222,
             "#000013"
            ],
            [
             0.3333333333333333,
             "#000014"
            ],
            [
             0.4444444444444444,
             "#000015"
            ],
            [
             0.5555555555555556,
             "#000016"
            ],
            [
             0.6666666666666666,
             "#000017"
            ],
            [
             0.7777777777777778,
             "#000018"
            ],
            [
             0.8888888888888888,
             "#000019"
            ],
            [
             1,
             "#000020"
            ]
           ],
           "sequentialminus": [
            [
             0,
             "#000011"
            ],
            [
             0.1111111111111111,
             "#000012"
            ],
            [
             0.2222222222222222,
             "#000013"
            ],
            [
             0.3333333333333333,
             "#000014"
            ],
            [
             0.4444444444444444,
             "#000015"
            ],
            [
             0.5555555555555556,
             "#000016"
            ],
            [
             0.6666666666666666,
             "#000017"
            ],
            [
             0.7777777777777778,
             "#000018"
            ],
            [
             0.8888888888888888,
             "#000019"
            ],
            [
             1,
             "#000020"
            ]
           ]
          },
          "colorway": [
           "#000001",
           "#000002",
           "#000003",
           "#000004",
           "#000005",
           "#000006",
           "#000007",
           "#000008",
           "#000009",
           "#000010"
          ]
         }
        },
        "xaxis": {
         "anchor": "y",
         "domain": [
          0,
          1
         ],
         "title": {
          "text": "Startupname"
         }
        },
        "yaxis": {
         "anchor": "x",
         "domain": [
          0,
          1
         ],
         "title": {
          "text": "InvestmentnType"
         }
        }
       }
      }
     },
     "metadata": {},
     "output_type": "display_data"
    }
   ],
   "source": [
    "px.scatter(df.head(500),'Startupname','InvestmentnType')"
   ]
  },
  {
   "attachments": {},
   "cell_type": "markdown",
   "metadata": {},
   "source": [
    "# KPI"
   ]
  },
  {
   "cell_type": "code",
   "execution_count": 44,
   "metadata": {},
   "outputs": [
    {
     "data": {
      "text/plain": [
       "<pandas.core.groupby.generic.DataFrameGroupBy object at 0x00000298502C8DF0>"
      ]
     },
     "execution_count": 44,
     "metadata": {},
     "output_type": "execute_result"
    }
   ],
   "source": [
    "df.groupby('Amount')"
   ]
  },
  {
   "cell_type": "code",
   "execution_count": 45,
   "metadata": {},
   "outputs": [
    {
     "data": {
      "text/plain": [
       "Startup_date                27/08/2019\n",
       "Startupname           Rapido Bike Taxi\n",
       "Industrytype            Transportation\n",
       "SubVertical                  Bike Taxi\n",
       "City                         Bengaluru\n",
       "Investorsname       Westbridge Capital\n",
       "InvestmentnType               Series B\n",
       "Amount                      3900000000\n",
       "Clean_date         2019-08-27 00:00:00\n",
       "Name: 60, dtype: object"
      ]
     },
     "execution_count": 45,
     "metadata": {},
     "output_type": "execute_result"
    }
   ],
   "source": [
    "df.loc[df['Amount'].idxmax()]"
   ]
  },
  {
   "cell_type": "code",
   "execution_count": 46,
   "metadata": {},
   "outputs": [
    {
     "data": {
      "text/plain": [
       "18292675.43667109"
      ]
     },
     "execution_count": 46,
     "metadata": {},
     "output_type": "execute_result"
    }
   ],
   "source": [
    "df['Amount'].mean()"
   ]
  },
  {
   "cell_type": "code",
   "execution_count": 47,
   "metadata": {},
   "outputs": [
    {
     "data": {
      "text/plain": [
       "Startup_date                                       19/01/2015\n",
       "Startupname                                      Hostel Dunia\n",
       "Industrytype                                Consumer Internet\n",
       "SubVertical                           Online Lending Platform\n",
       "City                                                Bangalore\n",
       "Investorsname      Hyderabad Angels (at Startup Heroes event)\n",
       "InvestmentnType                                  Seed Funding\n",
       "Amount                                                  16000\n",
       "Clean_date                                2015-01-19 00:00:00\n",
       "Name: 3017, dtype: object"
      ]
     },
     "execution_count": 47,
     "metadata": {},
     "output_type": "execute_result"
    }
   ],
   "source": [
    "df.loc[df['Amount'].idxmin()]"
   ]
  },
  {
   "cell_type": "code",
   "execution_count": 48,
   "metadata": {},
   "outputs": [
    {
     "data": {
      "text/plain": [
       "['zippserv']"
      ]
     },
     "execution_count": 48,
     "metadata": {},
     "output_type": "execute_result"
    }
   ],
   "source": [
    "[df['Startupname'].max()]"
   ]
  },
  {
   "cell_type": "code",
   "execution_count": 49,
   "metadata": {},
   "outputs": [
    {
     "data": {
      "text/plain": [
       "3016"
      ]
     },
     "execution_count": 49,
     "metadata": {},
     "output_type": "execute_result"
    }
   ],
   "source": [
    "df['Startupname'].value_counts().sum()"
   ]
  },
  {
   "cell_type": "code",
   "execution_count": 50,
   "metadata": {},
   "outputs": [
    {
     "data": {
      "text/plain": [
       "Ahemdabad                 1\n",
       "Kolkatta                  1\n",
       "Delhi & Cambridge         1\n",
       "Bhubneswar                1\n",
       "New Delhi / California    1\n",
       "Name: City, dtype: int64"
      ]
     },
     "execution_count": 50,
     "metadata": {},
     "output_type": "execute_result"
    }
   ],
   "source": [
    "df['City'].value_counts().tail()"
   ]
  },
  {
   "cell_type": "code",
   "execution_count": 51,
   "metadata": {},
   "outputs": [
    {
     "data": {
      "text/plain": [
       "'\\\\\\\\xc2\\\\\\\\xa0Noida'"
      ]
     },
     "execution_count": 51,
     "metadata": {},
     "output_type": "execute_result"
    }
   ],
   "source": [
    "df['City'].max()"
   ]
  },
  {
   "cell_type": "code",
   "execution_count": 52,
   "metadata": {},
   "outputs": [
    {
     "data": {
      "text/plain": [
       "2015.0    923\n",
       "2017.0    684\n",
       "2018.0    296\n",
       "2019.0    106\n",
       "2020.0      7\n",
       "Name: Clean_date, dtype: int64"
      ]
     },
     "execution_count": 52,
     "metadata": {},
     "output_type": "execute_result"
    }
   ],
   "source": [
    "year_df.value_counts().tail()"
   ]
  },
  {
   "cell_type": "code",
   "execution_count": 53,
   "metadata": {},
   "outputs": [
    {
     "data": {
      "text/plain": [
       "2015.0"
      ]
     },
     "execution_count": 53,
     "metadata": {},
     "output_type": "execute_result"
    }
   ],
   "source": [
    "year_df.min()"
   ]
  },
  {
   "cell_type": "code",
   "execution_count": 54,
   "metadata": {},
   "outputs": [
    {
     "data": {
      "text/plain": [
       "Private Equity          1353\n",
       "Seed Funding            1348\n",
       "Seed/ Angel Funding       56\n",
       "Seed / Angel Funding      41\n",
       "Seed\\\\nFunding            30\n",
       "Name: InvestmentnType, dtype: int64"
      ]
     },
     "execution_count": 54,
     "metadata": {},
     "output_type": "execute_result"
    }
   ],
   "source": [
    "df['InvestmentnType'].value_counts().head()"
   ]
  },
  {
   "cell_type": "code",
   "execution_count": 55,
   "metadata": {},
   "outputs": [
    {
     "data": {
      "application/vnd.plotly.v1+json": {
       "config": {
        "plotlyServerURL": "https://plot.ly"
       },
       "data": [
        {
         "alignmentgroup": "True",
         "hovertemplate": "City=%{x}<br>Amount=%{y}<extra></extra>",
         "legendgroup": "",
         "marker": {
          "color": "#000001"
         },
         "name": "",
         "notched": false,
         "offsetgroup": "",
         "orientation": "v",
         "showlegend": false,
         "type": "box",
         "x": [
          "Mumbai",
          "Noida",
          "New Delhi",
          "New Delhi",
          "New Delhi",
          "Bangalore",
          "Mumbai",
          "Indore",
          "Bangalore",
          "Mumbai",
          "New Delhi",
          "Gurgaon",
          "Singapore",
          "New Delhi",
          "Mumbai",
          "Bangalore",
          "New Delhi",
          "Bangalore",
          "Bangalore",
          "Mumbai",
          "Gurgaon",
          "New Delhi",
          "Mumbai",
          "Bangalore",
          "Jaipur",
          "Bangalore",
          "New Delhi",
          "Gurgaon",
          "Bangalore",
          "New Delhi",
          "Gurgaon",
          "Mumbai",
          "Gurgaon",
          "New Delhi",
          "Gurgaon",
          "New Delhi",
          "Bangalore",
          "Bangalore",
          "Indore",
          "Pune",
          "Mumbai",
          "Mumbai",
          "Mumbai",
          "Hyderabad",
          "New Delhi",
          "Bangalore",
          "Bangalore",
          "Mumbai",
          "Kolkata",
          "Bangalore",
          "Bangalore",
          "Mumbai",
          "Bangalore",
          "New Delhi",
          "Chennai",
          "Pune",
          "New Delhi",
          "Bangalore",
          "Bangalore",
          "Indore",
          "New Delhi",
          "Noida",
          "New Delhi",
          "Chennai",
          "Bangalore",
          "Mumbai",
          "Gurgaon",
          "Bangalore",
          "Mumbai",
          "Bangalore",
          "New Delhi",
          "Bangalore",
          "New Delhi",
          "New Delhi",
          "Chennai",
          "Bangalore",
          "New Delhi",
          "New Delhi",
          "Chennai",
          "Bangalore",
          "Noida",
          "Goa",
          "Bangalore",
          "New Delhi",
          "Bangalore",
          "Noida",
          "New Delhi",
          "Mumbai",
          "Gurgaon",
          "Mumbai",
          "New Delhi",
          "Gurgaon",
          "New Delhi",
          "Bangalore",
          "Bangalore",
          "Gurgaon",
          "Singapore",
          "Pune",
          "Bangalore",
          "Bangalore",
          "Bangalore",
          "Bangalore",
          "Bangalore",
          "New Delhi",
          "New Delhi",
          "Gurgaon",
          "Mumbai",
          "New Delhi",
          "Mumbai",
          "Mumbai",
          "Gurgaon",
          "Gurgaon",
          "Mumbai",
          "Bangalore",
          "Mumbai",
          "Bangalore",
          "Bangalore",
          "Mumbai",
          "Bangalore",
          "Mumbai",
          "Bangalore",
          "Indore",
          "Bangalore",
          "Mumbai",
          "Gurgaon",
          "Mumbai",
          "Ahmedabad",
          "Mumbai",
          "Kolkata",
          "Bangalore",
          "Bangalore",
          "Jaipur",
          "Noida",
          "New Delhi",
          "Goa",
          "Bangalore",
          "Bangalore",
          "Bangalore",
          "Bangalore",
          "Noida",
          "Pune",
          "Vadodara",
          "Bangalore",
          "Bangalore",
          "Mumbai",
          "Bangalore",
          "Bangalore",
          "Bangalore",
          "Chennai",
          "Gurgaon",
          "Bangalore",
          "Mumbai",
          "Mumbai",
          "Noida",
          "Noida",
          "Hyderabad",
          "Pune",
          "Mumbai",
          "Gurgaon",
          "Mumbai",
          "Pune",
          "Mumbai",
          "Bangalore",
          "Mumbai",
          "Bangalore",
          "Noida",
          "Noida",
          "Bangalore",
          "Bangalore",
          "Mumbai",
          "Mumbai",
          "Kolkata",
          "New Delhi",
          "Bangalore",
          "Gurgaon",
          "New Delhi",
          "Noida",
          "Agra",
          "Bangalore",
          "Ahmedabad",
          "New Delhi",
          "Bangalore",
          "Hyderabad",
          "Gurgaon",
          "Mumbai",
          "Bangalore",
          "Bangalore",
          "Hyderabad",
          "Mumbai",
          "Bangalore",
          "New Delhi",
          "Gurgaon",
          "Mumbai",
          "New Delhi",
          "Mumbai",
          "Pune",
          "Noida",
          "Bangalore",
          "Bangalore",
          "Bangalore",
          "Mumbai",
          "Bangalore",
          "Mumbai",
          "Noida",
          "Mumbai",
          "Bangalore",
          "Gurgaon",
          "Mumbai",
          "Bangalore",
          "Mumbai",
          "New Delhi",
          "Gurgaon",
          "Gurgaon",
          "New Delhi",
          "Bangalore",
          "Ahmedabad",
          "Bangalore",
          "Chennai",
          "Bangalore",
          "Bangalore",
          "New Delhi",
          "Chennai",
          "Bangalore",
          "Bangalore",
          "Mumbai",
          "Chennai",
          "Kolkata",
          "Hyderabad",
          "New Delhi",
          "Kochi",
          "Mumbai",
          "New Delhi",
          "Chennai",
          "Mumbai",
          "New Delhi",
          "Mumbai",
          "Bangalore/ Bangkok",
          "New Delhi",
          "Bangalore",
          "Gurgaon",
          "Bangalore",
          "Bangalore",
          "Bangalore",
          "Bangalore",
          "Hubli",
          "New Delhi",
          "Noida",
          "New Delhi",
          "Mumbai",
          "Pune",
          "Mumbai",
          "Noida",
          "Bangalore",
          "Delhi",
          "Agra",
          "Gurgaon",
          "Kolkata",
          "Bangalore",
          "Bangalore",
          "Gurgaon",
          "Bangalore",
          "Bangalore",
          "Hyderabad",
          "Gurgaon",
          "Bangalore",
          "New Delhi",
          "Bangalore",
          "Bangalore",
          "Hyderabad",
          "New Delhi",
          "Bangalore",
          "Vadodara",
          "Mumbai",
          "Ahmedabad",
          "New Delhi",
          "New Delhi",
          "Bangalore",
          "Bangalore",
          "Bangalore",
          "Pune",
          "Chennai",
          "Bangalore",
          "Mumbai",
          "Noida",
          "New Delhi",
          "Chennai",
          "Bangalore",
          "Mumbai",
          "Ahmedabad",
          "Indore",
          "Hyderabad",
          "Pune",
          "New Delhi",
          "Noida",
          "Bangalore",
          "Pune",
          "Mumbai",
          "Jaipur",
          "Gurgaon",
          "Bangalore",
          "Pune",
          "Bangalore",
          "Pune",
          "Noida",
          "Bangalore",
          "Mumbai",
          "Chennai",
          "Gurgaon",
          "Mumbai",
          "Bangalore",
          "New Delhi",
          "Bangalore",
          "Kerala",
          "New Delhi",
          "Mumbai",
          "Gurgaon",
          "Mumbai",
          "Bangalore",
          "New Delhi",
          "Bangalore",
          "New Delhi",
          "Bangalore",
          "Mumbai",
          "Mumbai",
          "Hyderabad",
          "Gurgaon",
          "Gurgaon",
          "Noida",
          "Gurgaon",
          "New Delhi",
          "Bangalore",
          "Gurgaon",
          "New Delhi",
          "New Delhi",
          "Mumbai",
          "Ahmedabad",
          "Pune",
          "Mumbai",
          "Indore",
          "Bangalore",
          "Bangalore",
          "Bangalore",
          "Bangalore",
          "Kozhikode",
          "Mumbai",
          "Bangalore",
          "Chennai",
          "Bangalore",
          "Mumbai",
          "Mumbai",
          "New Delhi",
          "New Delhi",
          "Mumbai",
          "New Delhi",
          "New Delhi",
          "Bangalore",
          "Chandigarh",
          "Bangalore",
          "Gurgaon",
          "Mumbai",
          "Noida",
          "Mumbai",
          "Bangalore",
          "Indore",
          "Bangalore",
          "Bangalore",
          "Mumbai",
          "Bangalore",
          "Gurgaon",
          "Gurgaon",
          "Mumbai",
          "Gurgaon",
          "Mumbai",
          "Bangalore",
          "Noida",
          "Chennai",
          "Bangalore",
          "Gurgaon",
          "New Delhi",
          "Bangalore",
          "Bangalore",
          "Bangalore",
          "Mumbai",
          "Mumbai",
          "Mumbai",
          "Bangalore",
          "Hyderabad",
          "Mumbai",
          "New Delhi",
          "Bangalore",
          "Mumbai",
          "Bangalore",
          "Mumbai",
          "Mumbai",
          "US",
          "Mumbai",
          "Gurgaon",
          "Mumbai",
          "Mumbai",
          "New Delhi",
          "Ahmedabad",
          "Chennai",
          "Mumbai",
          "New Delhi",
          "Gurgaon",
          "Mumbai",
          "Bangalore",
          "Mumbai",
          "Mumbai",
          "Gurgaon",
          "Gurgaon",
          "Gurgaon",
          "New Delhi",
          "Bangalore",
          "Chandigarh",
          "New Delhi",
          "New Delhi",
          "Chennai",
          "Gurgaon",
          "Bangalore",
          "Bangalore",
          "Bangalore",
          "Gurgaon",
          "Mumbai",
          "Coimbatore",
          "Pune",
          "New Delhi",
          "Pune",
          "Bangalore",
          "New Delhi",
          "New Delhi",
          "New Delhi",
          "Mumbai",
          "Pune",
          "New Delhi",
          "Mumbai",
          "Mumbai",
          "Pune",
          "New Delhi",
          "Noida",
          "Bangalore",
          "Gurgaon",
          "Jaipur",
          "Mumbai",
          "Pune",
          "New Delhi",
          "Bangalore",
          "Bangalore",
          "Indore",
          "Bangalore",
          "New Delhi",
          "New Delhi",
          "Mumbai",
          "Mumbai",
          "Mumbai",
          "Bangalore",
          "Chennai",
          "New Delhi",
          "Hyderabad",
          "Bangalore",
          "Bangalore",
          "Bangalore",
          "Pune",
          "Mumbai",
          "Hyderabad",
          "Mumbai",
          "Mumbai",
          "Gurgaon",
          "Bangalore",
          "Bangalore",
          "Jaipur",
          "Gurgaon",
          "Siliguri",
          "Pune",
          "Mumbai",
          "Mumbai",
          "New Delhi",
          "Gurgaon",
          "Mumbai",
          "Bangalore",
          "New Delhi",
          "New Delhi",
          "Chennai",
          "Jaipur",
          "Mumbai",
          "Bangalore",
          "New Delhi",
          "New Delhi",
          "New Delhi",
          "Bangalore",
          "Pune",
          "Bangalore",
          "Vadodara",
          "Bangalore",
          "New Delhi",
          "Gurgaon",
          "Bangalore",
          "USA",
          "Bangalore",
          "Mumbai",
          "New Delhi",
          "Bangalore",
          "Bangalore",
          "Bangalore",
          "Bangalore",
          "New Delhi",
          "New Delhi",
          "Ahmedabad",
          "Mumbai",
          "Bangalore",
          "Mumbai",
          "Noida",
          "Bangalore",
          "Mumbai",
          "Bangalore",
          "Chennai",
          "Mumbai",
          "Pune",
          "New Delhi",
          "Bangalore",
          "Gurgaon",
          "New Delhi",
          "Mumbai",
          "Bangalore",
          "Bangalore",
          "Mumbai",
          "Mumbai",
          "New Delhi",
          "Bangalore",
          "Bangalore",
          "New Delhi",
          "Bangalore",
          "Gurgaon",
          "Ahmedabad",
          "Ahmedabad",
          "New Delhi",
          "Hyderabad",
          "Bangalore",
          "New Delhi",
          "Kolkata",
          "Mumbai",
          "Mumbai",
          "Mumbai",
          "Bangalore",
          "Bangalore",
          "Gurgaon",
          "Mumbai",
          "New Delhi",
          "Pune",
          "Chennai",
          "Gurgaon",
          "New Delhi",
          "Bangalore",
          "Vadodara",
          "Mumbai",
          "Mumbai",
          "Mumbai",
          "New Delhi",
          "Mumbai",
          "Chennai",
          "Pune",
          "Hyderabad",
          "Singapore",
          "New Delhi",
          "Bangalore",
          "New Delhi",
          "Bangalore",
          "Lucknow",
          "Bangalore",
          "Hyderabad",
          "Bangalore",
          "Bangalore",
          "New Delhi",
          "Bangalore",
          "Chennai",
          "Chennai",
          "Mumbai",
          "Bangalore",
          "Bangalore",
          "Gurgaon",
          "Mumbai",
          "Bangalore",
          "Bangalore",
          "Hyderabad",
          "Jaipur",
          "Kanpur",
          "Bangalore",
          "Gurgaon",
          "Chennai",
          "Mumbai",
          "Delhi",
          "Mumbai",
          "Mumbai",
          "Gurgaon",
          "Mumbai",
          "Bangalore",
          "Trivandrum",
          "Pune",
          "Mumbai",
          "Bangalore",
          "Bangalore",
          "Mumbai",
          "Bangalore",
          "New Delhi",
          "New Delhi",
          "Noida",
          "Gurgaon",
          "New Delhi",
          "Gurgaon",
          "Bangalore",
          "New Delhi",
          "Bangalore",
          "Pune",
          "New Delhi",
          "Bangalore",
          "New Delhi",
          "New Delhi",
          "Bangalore",
          "Mumbai",
          "New Delhi",
          "New Delhi",
          "Mumbai",
          "Gurgaon",
          "Gurgaon",
          "Mumbai",
          "SFO / Bangalore",
          "Delhi",
          "Gurgaon",
          "Mumbai",
          "Pune",
          "Mumbai",
          "Bangalore",
          "Bangalore",
          "Mumbai",
          "Mumbai",
          "Gurgaon",
          "Bangalore",
          "Mumbai",
          "Bangalore",
          "London",
          "New Delhi",
          "Chennai",
          "New Delhi",
          "Mumbai",
          "New Delhi",
          "New Delhi",
          "Gurgaon",
          "Bangalore",
          "Mumbai",
          "Mumbai",
          "Bangalore",
          "New Delhi",
          "Pune",
          "Mumbai",
          "Bangalore",
          "New Delhi",
          "Mumbai",
          "Noida",
          "New Delhi",
          "Jaipur",
          "New Delhi",
          "Jaipur",
          "Noida",
          "Bangalore",
          "Bangalore",
          "Bangalore",
          "Bangalore",
          "Gurgaon",
          "Jaipur",
          "Chandigarh",
          "Pune",
          "Noida",
          "Chennai",
          "New Delhi",
          "New Delhi",
          "Bangalore",
          "Bangalore",
          "Bangalore",
          "Gurgaon",
          "New Delhi",
          "New Delhi",
          "Mumbai",
          "Jaipur",
          "New Delhi",
          "Bangalore",
          "Bangalore",
          "Bangalore",
          "Pune",
          "New Delhi",
          "Hyderabad",
          "Pune",
          "Bangalore",
          "Mumbai",
          "Bangalore",
          "Gurgaon",
          "Gurgaon",
          "Bangalore",
          "Noida",
          "New Delhi",
          "Mumbai",
          "Mumbai",
          "Bangalore",
          "Mumbai",
          "New Delhi",
          "Bangalore",
          "Bangalore",
          "Mumbai",
          "Bangalore",
          "Noida",
          "Seattle / Bangalore",
          "Bangalore",
          "Mumbai",
          "Mumbai",
          "New Delhi",
          "Bangalore",
          "Chennai",
          "Pune",
          "Kolkata",
          "New Delhi",
          "Gurgaon",
          "Mumbai",
          "Gurgaon",
          "Noida",
          "Bangalore",
          "Bangalore",
          "New Delhi",
          "Bangalore",
          "Bangalore",
          "New Delhi",
          "Bangalore",
          "Mumbai",
          "Bangalore",
          "New Delhi",
          "Bangalore",
          "Noida",
          "Noida",
          "Bangalore",
          "Hyderabad",
          "Pune",
          "Mumbai",
          "Gurgaon",
          "New Delhi",
          "Mumbai",
          "Pune/Seattle",
          "New Delhi",
          "Ahmedabad",
          "Bangalore",
          "New Delhi",
          "Ahmedabad",
          "Bangalore",
          "Pune",
          "Gurgaon",
          "Bangalore",
          "Bangalore",
          "Mumbai",
          "Bangalore",
          "Noida",
          "Gurgaon",
          "Mumbai",
          "Mumbai",
          "Hyderabad",
          "New Delhi",
          "Gurgaon",
          "Jaipur",
          "Gurgaon",
          "Bangalore",
          "Bangalore",
          "Bangalore",
          "Bangalore",
          "Jaipur",
          "Hyderabad",
          "Ahmedabad",
          "Hyderabad",
          "Chennai",
          "New Delhi",
          "Hyderabad",
          "Bangalore",
          "Bangalore",
          "Gurgaon",
          "Noida",
          "Bangalore",
          "New Delhi",
          "Chennai",
          "New Delhi",
          "Chennai",
          "Gurgaon",
          "Bangalore",
          "Mumbai",
          "Hyderabad",
          "New Delhi",
          "Pune",
          "Bangalore",
          "Bangalore",
          "Bangalore",
          "Gurgaon",
          "Mumbai",
          "Pune / Dubai",
          "New Delhi",
          "Noida",
          "Bangalore",
          "New Delhi",
          "Bangalore",
          "Bangalore / SFO",
          "New Delhi",
          "Mumbai",
          "Bangalore",
          "Vadodara",
          "Pune",
          "Varanasi",
          "New Delhi",
          "New Delhi",
          "New Delhi",
          "Gurgaon",
          "New Delhi",
          "Mumbai",
          "Jaipur",
          "Mumbai",
          "Pune",
          "New Delhi",
          "Bangalore",
          "New Delhi",
          "Mumbai",
          "Mumbai",
          "Noida",
          "Bangalore",
          "Pune",
          "Bangalore",
          "Indore",
          "Gurgaon",
          "Gurgaon",
          "Bangalore",
          "New Delhi",
          "Mumbai",
          "Mumbai",
          "Mumbai",
          "New Delhi",
          "Chandigarh",
          "Bangalore",
          "Gurgaon",
          "Bangalore",
          "Bangalore",
          "New Delhi",
          "Bangalore",
          "Bangalore",
          "Ahmedabad",
          "Pune",
          "Pune",
          "Bangalore",
          "Mumbai",
          "New Delhi",
          "Bangalore",
          "Mumbai",
          "New Delhi",
          "Hyderabad",
          "New Delhi",
          "Ahmedabad",
          "Gurgaon",
          "Bangalore",
          "New Delhi",
          "Bangalore",
          "New Delhi",
          "Bangalore",
          "New Delhi",
          "Gurgaon",
          "Bangalore",
          "Bangalore",
          "New Delhi",
          "New Delhi",
          "Bangalore",
          "Mumbai",
          "New Delhi",
          "New Delhi",
          "Gurgaon",
          "Kanpur",
          "Bangalore",
          "Bangalore",
          "Bangalore",
          "Hyderabad",
          "Noida",
          "Bangalore",
          "Gurgaon",
          "Bangalore",
          "Bangalore",
          "New Delhi",
          "New Delhi",
          "Mumbai",
          "Bangalore",
          "Mumbai",
          "Bangalore",
          "New Delhi",
          "Mumbai",
          "Gurgaon",
          "New Delhi",
          "New Delhi",
          "Ahmedabad",
          "Bhopal",
          "Noida",
          "Bangalore",
          "Mumbai",
          "Bangalore",
          "Gurgaon",
          "Bangalore",
          "Ahmedabad",
          "Pune",
          "Gurgaon",
          "New Delhi",
          "Bangalore",
          "Gurgaon",
          "Bangalore",
          "Jaipur",
          "Gurgaon",
          "Bangalore",
          "Bangalore",
          "Mumbai",
          "Gurgaon",
          "Bangalore",
          "Gurgaon",
          "New Delhi",
          "Bangalore",
          "Bangalore",
          "Mumbai",
          "Gurgaon",
          "New Delhi",
          "Bangalore",
          "Mumbai",
          "Mumbai",
          "Bangalore",
          "New Delhi",
          "Hyderabad",
          "Mumbai",
          "Mumbai",
          "Bangalore",
          "Bangalore",
          "Gurgaon",
          "Gurgaon",
          "Bangalore",
          "Gurgaon",
          "Bangalore",
          "Mumbai",
          "Noida",
          "Mumbai",
          "Mumbai",
          "New Delhi",
          "Bangalore",
          "Bangalore",
          "Gurgaon",
          "New Delhi",
          "New Delhi",
          "Mumbai",
          "New Delhi",
          "Chennai",
          "New Delhi",
          "New Delhi",
          "Mumbai",
          "New Delhi / US",
          "Mumbai / UK",
          "Mumbai",
          "Pune",
          "Bangalore",
          "Noida",
          "Mumbai",
          "Bangalore",
          "Kanpur",
          "Bangalore",
          "Bangalore",
          "Gurgaon",
          "Ahmedabad",
          "Bangalore",
          "Mumbai",
          "Bangalore",
          "Gurgaon",
          "Mumbai",
          "Gurgaon",
          "New Delhi",
          "Siliguri",
          "Gurgaon",
          "Bangalore",
          "Bangalore",
          "Hyderabad",
          "Mumbai",
          "Bangalore",
          "Bangalore",
          "New Delhi",
          "Jodhpur",
          "Noida",
          "Bangalore",
          "Bangalore",
          "Mumbai",
          "New Delhi",
          "Hyderabad",
          "Hyderabad",
          "Mumbai",
          "New Delhi",
          "Mumbai",
          "\\\\xc2\\\\xa0New Delhi",
          "Goa",
          "Mumbai",
          "Mumbai",
          "Bangalore",
          "Bangalore"
         ],
         "x0": " ",
         "xaxis": "x",
         "y": [
          6250000,
          1200000,
          4000000,
          3600000,
          100000,
          18427918,
          3000000,
          18427918,
          1400000,
          18427918,
          147000,
          18427918,
          18427918,
          18427918,
          18427918,
          18427918,
          9000000,
          440000,
          18427918,
          6500000,
          250000,
          6000000,
          18427918,
          450000,
          250000,
          10000000,
          200000,
          2000000,
          18427918,
          2000000,
          10000000,
          18427918,
          11100000,
          18427918,
          150000,
          1000000,
          18427918,
          18427918,
          297000,
          100000,
          10000000,
          35000000,
          3000000,
          23000000,
          123000,
          18427918,
          7400000,
          50000,
          18427918,
          18427918,
          15000000,
          18427918,
          500000,
          18427918,
          162000,
          18427918,
          324000,
          300000,
          2000000,
          18427918,
          18427918,
          18427918,
          18427918,
          18427918,
          18427918,
          1200000,
          10000000,
          5000000,
          18427918,
          1000000,
          18427918,
          18427918,
          18427918,
          200000,
          55000000,
          150000,
          18427918,
          18427918,
          6000000,
          18427918,
          10000000,
          18427918,
          1000000,
          150000,
          18427918,
          18427918,
          45000,
          3000000,
          75000000,
          3000000,
          2000000,
          12000000,
          1000000,
          18427918,
          18427918,
          18427918,
          3000000,
          2000000,
          18427918,
          6000000,
          4000000,
          5000000,
          18427918,
          13500000,
          18427918,
          18427918,
          147000,
          1000000,
          18427918,
          18427918,
          90000,
          650000,
          5000000,
          147000,
          18427918,
          5000000,
          18427918,
          147000,
          20000000,
          600000,
          10000000,
          18427918,
          18427918,
          4000000,
          18427918,
          18427918,
          18427918,
          18427918,
          18427918,
          18427918,
          100000,
          2000000,
          18427918,
          3000000,
          1000000,
          963000,
          150000,
          200000,
          2000000,
          218000,
          100000,
          440000,
          500000,
          18427918,
          500000,
          18427918,
          5000000,
          18427918,
          2000000,
          200000,
          450000,
          18427918,
          18427918,
          2000000,
          4200000,
          3000000,
          18427918,
          1000000,
          2500000,
          3750000,
          18427918,
          18427918,
          18427918,
          1200000,
          18427918,
          300000,
          18427918,
          1050000,
          100000,
          2200000,
          15000000,
          18427918,
          375000,
          50000000,
          500000,
          18427918,
          2000000,
          18427918,
          18427918,
          450000,
          25000,
          7000000,
          6000000,
          18427918,
          18427918,
          18427918,
          25000000,
          227000,
          1000000,
          18427918,
          18427918,
          300000,
          16000000,
          150000,
          18427918,
          18427918,
          2500000,
          18427918,
          30000000,
          1100000,
          750000,
          18427918,
          18427918,
          18427918,
          300000,
          18427918,
          3000000,
          7500000,
          6000000,
          500000,
          18427918,
          18427918,
          100000,
          1000000,
          18427918,
          1000000,
          700000,
          971000,
          27000000,
          18427918,
          100000,
          100000,
          100000,
          750000,
          1000000,
          18427918,
          6700000,
          18427918,
          18427918,
          18427918,
          18427918,
          18427918,
          1350000,
          500000,
          18427918,
          900000,
          8000000,
          500000,
          6000000,
          315000,
          670000,
          200000,
          50000000,
          18427918,
          18427918,
          150000,
          450000,
          18427918,
          448000,
          3000000,
          12300000,
          300000,
          18427918,
          18427918,
          18427918,
          2500000,
          18427918,
          150000,
          18427918,
          200000,
          5000000,
          1500000,
          100000,
          1000000,
          750000,
          18427918,
          15000000,
          18427918,
          500000,
          18427918,
          1000000,
          18427918,
          31300000,
          298000,
          350000,
          6000000,
          18427918,
          425000,
          1000000,
          745000,
          6000000,
          18427918,
          18427918,
          18427918,
          18427918,
          18427918,
          1580000,
          18427918,
          500000,
          1000000,
          1000000,
          51000000,
          180000,
          18427918,
          1500000,
          18427918,
          19000000,
          18427918,
          12000000,
          200000,
          275000,
          3000000,
          2500000,
          1800000,
          18427918,
          1000000,
          18427918,
          225000,
          890000,
          500000,
          18427918,
          18427918,
          27000,
          18427918,
          40000,
          445000,
          200000,
          18427918,
          18427918,
          500000,
          600000,
          7000000,
          18427918,
          209000,
          15000000,
          1500000,
          1500000,
          15600000,
          500000,
          18427918,
          18427918,
          18427918,
          62000000,
          175000000,
          500000,
          1500000,
          250000,
          18427918,
          375000,
          18427918,
          675000,
          18427918,
          18427918,
          18427918,
          20000000,
          375000,
          18427918,
          18427918,
          37000000,
          18427918,
          18427918,
          100000,
          18427918,
          200000,
          18427918,
          1000000,
          100000,
          500000,
          18427918,
          500000,
          900000,
          3000000,
          18427918,
          18427918,
          3000000,
          18427918,
          18427918,
          24000000,
          500000,
          40000000,
          550000,
          18427918,
          3000000,
          7000000,
          18427918,
          1000000,
          15000000,
          149000,
          104000,
          60000000,
          2000000,
          3000000,
          18427918,
          5300000,
          18427918,
          18427918,
          18427918,
          500000,
          18427918,
          700000,
          18427918,
          15000000,
          200000,
          2000000,
          18427918,
          16000000,
          1000000,
          82000000,
          1700000,
          740000,
          250000,
          297000,
          2000000,
          1000000,
          18427918,
          18427918,
          18427918,
          1950000,
          6000000,
          3500000,
          3000000,
          12250000,
          18427918,
          18427918,
          18427918,
          18427918,
          5000000,
          18427918,
          600000,
          1350000,
          18427918,
          5000000,
          18427918,
          18427918,
          450000,
          1070000,
          18427918,
          1000000,
          2000000,
          18427918,
          250000,
          18427918,
          6000000,
          650000,
          650000,
          30000000,
          18427918,
          18427918,
          10000000,
          15000000,
          1000000,
          250000,
          1000000,
          595000,
          18427918,
          1000000,
          18427918,
          595000,
          18427918,
          18427918,
          18427918,
          18427918,
          1000000,
          18427918,
          1000000,
          18427918,
          75000,
          2000000,
          448000,
          4000000,
          2000000,
          100000,
          23000000,
          1000000,
          1000000,
          500000,
          200000,
          18427918,
          18427918,
          16000000,
          18427918,
          200000,
          18427918,
          18427918,
          2000000,
          18427918,
          500000,
          18427918,
          18427918,
          18427918,
          18427918,
          18427918,
          18427918,
          18427918,
          1000000,
          30000,
          18427918,
          18427918,
          18427918,
          6000000,
          1000000,
          4400000,
          450000,
          18427918,
          450000,
          600000,
          18427918,
          18427918,
          20000000,
          18427918,
          12000000,
          900000,
          5200000,
          18427918,
          18427918,
          18427918,
          18427918,
          18427918,
          150000,
          18427918,
          18427918,
          18427918,
          400000,
          225000,
          18427918,
          150000,
          6000000,
          150000,
          3500000,
          210000,
          18427918,
          18427918,
          50000,
          18427918,
          500000,
          6000000,
          3000000,
          148000,
          1200000,
          100000,
          18427918,
          3000000,
          8000000,
          300000,
          32000000,
          295000,
          18427918,
          18427918,
          100000,
          50000,
          18427918,
          1500000,
          25000000,
          220000,
          18427918,
          368000,
          18427918,
          376000,
          145000,
          18427918,
          50000000,
          18427918,
          250000,
          18427918,
          180000,
          18427918,
          200000,
          60000000,
          12000000,
          200000,
          200000,
          150000,
          500000,
          500000,
          500000,
          18427918,
          375000,
          1000000,
          18427918,
          75000,
          2750000,
          450000,
          250000,
          6000000,
          1500000,
          18000000,
          1500000,
          7000000,
          900000,
          18427918,
          100000000,
          500000,
          25000000,
          150000,
          18427918,
          18427918,
          18427918,
          18427918,
          13500000,
          2200000,
          1000000,
          18427918,
          18427918,
          18427918,
          18427918,
          250000,
          100000,
          18427918,
          10000000,
          1000000,
          18427918,
          1000000,
          18427918,
          500000,
          500000,
          300000,
          18427918,
          89000,
          18427918,
          1000000,
          18427918,
          1500000,
          100000,
          18427918,
          2000000,
          18427918,
          475000,
          18427918,
          200000,
          18427918,
          4400000,
          8900000,
          18427918,
          18427918,
          175000,
          2700000,
          18427918,
          18427918,
          18427918,
          18427918,
          25000000,
          18427918,
          18427918,
          18427918,
          18427918,
          1000000,
          500000,
          6000000,
          1000000,
          18427918,
          18427918,
          18427918,
          40000,
          200000,
          18427918,
          100000000,
          300000,
          1000000,
          18427918,
          18427918,
          18427918,
          1000000,
          150000,
          250000,
          750000,
          18427918,
          100000,
          18427918,
          1000000,
          18427918,
          15000000,
          18427918,
          18427918,
          30000000,
          150000,
          18427918,
          18427918,
          18427918,
          18427918,
          10000000,
          18427918,
          1500000,
          450000,
          18427918,
          2000000,
          18427918,
          18427918,
          18427918,
          15000000,
          18427918,
          18427918,
          18427918,
          18427918,
          18427918,
          18427918,
          3000000,
          18427918,
          18427918,
          450000,
          200000,
          18427918,
          550000,
          15000000,
          1300000,
          15000000,
          500000,
          18427918,
          18427918,
          450000,
          18427918,
          600000,
          1200000,
          500000,
          100000,
          18427918,
          18427918,
          18427918,
          18427918,
          600000,
          18427918,
          1400000,
          18427918,
          1000000,
          500000,
          18427918,
          1000000,
          18427918,
          150000,
          18427918,
          100000,
          18427918,
          4000000,
          500000,
          3000000,
          500000,
          250000,
          18427918,
          100000,
          18427918,
          18427918,
          18427918,
          750000,
          8000000,
          650000,
          18427918,
          500000,
          2500000,
          1000000,
          18427918,
          400000,
          18427918,
          11100000,
          18427918,
          15000000,
          1000000,
          18427918,
          223608,
          14900000,
          18427918,
          1000000,
          150000,
          250000,
          180000,
          18427918,
          18427918,
          250000,
          200000,
          230000,
          800000,
          108000,
          1500000,
          30000,
          18427918,
          18427918,
          2000000,
          75000000,
          150000000,
          600000,
          18427918,
          18427918,
          360000,
          18427918,
          100000,
          300000,
          18427918,
          330000,
          18427918,
          500000,
          150000,
          300000,
          18427918,
          300000,
          4700000,
          200000,
          500000,
          18427918,
          400000,
          18427918,
          18427918,
          18427918,
          4000000,
          18427918,
          22500,
          22500,
          22500,
          22500,
          1000000,
          100000,
          100000,
          30000,
          30000,
          18427918,
          13500000,
          18427918,
          18427918,
          18427918,
          1000000,
          81000,
          52000,
          1000000,
          18427918,
          18427918,
          100000,
          100000,
          18427918,
          18427918,
          18427918,
          12500000,
          18427918,
          18427918,
          18427918,
          18427918,
          200000,
          18427918,
          1200000,
          150000,
          18427918,
          18427918,
          18427918,
          18427918,
          125000,
          1000000,
          1000000,
          4000000,
          5000000,
          200000000,
          18427918,
          18427918,
          50000,
          300000,
          500000,
          18427918,
          1000000,
          970000,
          18427918,
          4000000,
          18427918,
          18427918,
          18427918,
          350000,
          18427918,
          10000000,
          5000000,
          18427918,
          18427918,
          73000,
          18427918,
          18427918,
          300000,
          350000,
          5000000,
          18427918,
          18427918,
          400000,
          18427918,
          1000000,
          3000000,
          100000,
          18427918,
          4500000,
          37000,
          18427918,
          11000000,
          18427918,
          160000,
          18427918,
          10000000,
          400000,
          150000,
          18427918,
          5000000,
          18427918,
          5800000,
          70000,
          145000,
          2500000,
          18427918,
          13000000,
          18427918,
          18427918,
          18427918,
          18427918,
          18427918,
          6000000,
          18427918,
          100000,
          18427918,
          150000,
          5000000,
          18427918,
          18427918,
          750000,
          1000000,
          150000,
          3000000,
          750000,
          18427918,
          18427918,
          160000,
          100000,
          180000000,
          5000000,
          250000,
          45000,
          18427918,
          18427918,
          5400000,
          18427918,
          16500000,
          1000000,
          18427918,
          100000000,
          18427918,
          2300000,
          250000,
          145000000,
          100000,
          240000,
          18427918,
          4000000,
          18427918,
          18427918,
          18427918,
          520000,
          18427918,
          18427918,
          200000,
          18427918,
          18427918,
          18427918,
          18427918,
          18427918,
          6000000,
          35000000,
          18427918,
          18427918,
          18427918,
          1400000,
          5000000,
          445000,
          3500000,
          18427918,
          1800000,
          20000000,
          4000000,
          40000,
          18427918,
          18427918,
          500000,
          2200000,
          15000000,
          3000000,
          200000,
          18427918,
          7200000,
          18427918,
          18427918,
          515000,
          35000000,
          30000000,
          18427918,
          150000,
          21000000,
          18427918,
          18427918,
          4000000,
          1000000,
          18427918,
          1000000,
          370000,
          18427918,
          18427918,
          18427918,
          160000,
          18427918,
          185000,
          17000000,
          5150000,
          1100000,
          18427918,
          18427918,
          18427918,
          18427918,
          630000,
          18427918,
          18427918,
          2000000,
          500000,
          650000,
          200000
         ],
         "y0": " ",
         "yaxis": "y"
        }
       ],
       "layout": {
        "boxmode": "group",
        "legend": {
         "tracegroupgap": 0
        },
        "margin": {
         "t": 60
        },
        "template": {
         "data": {
          "candlestick": [
           {
            "decreasing": {
             "line": {
              "color": "#000033"
             }
            },
            "increasing": {
             "line": {
              "color": "#000032"
             }
            },
            "type": "candlestick"
           }
          ],
          "contour": [
           {
            "colorscale": [
             [
              0,
              "#000011"
             ],
             [
              0.1111111111111111,
              "#000012"
             ],
             [
              0.2222222222222222,
              "#000013"
             ],
             [
              0.3333333333333333,
              "#000014"
             ],
             [
              0.4444444444444444,
              "#000015"
             ],
             [
              0.5555555555555556,
              "#000016"
             ],
             [
              0.6666666666666666,
              "#000017"
             ],
             [
              0.7777777777777778,
              "#000018"
             ],
             [
              0.8888888888888888,
              "#000019"
             ],
             [
              1,
              "#000020"
             ]
            ],
            "type": "contour"
           }
          ],
          "contourcarpet": [
           {
            "colorscale": [
             [
              0,
              "#000011"
             ],
             [
              0.1111111111111111,
              "#000012"
             ],
             [
              0.2222222222222222,
              "#000013"
             ],
             [
              0.3333333333333333,
              "#000014"
             ],
             [
              0.4444444444444444,
              "#000015"
             ],
             [
              0.5555555555555556,
              "#000016"
             ],
             [
              0.6666666666666666,
              "#000017"
             ],
             [
              0.7777777777777778,
              "#000018"
             ],
             [
              0.8888888888888888,
              "#000019"
             ],
             [
              1,
              "#000020"
             ]
            ],
            "type": "contourcarpet"
           }
          ],
          "heatmap": [
           {
            "colorscale": [
             [
              0,
              "#000011"
             ],
             [
              0.1111111111111111,
              "#000012"
             ],
             [
              0.2222222222222222,
              "#000013"
             ],
             [
              0.3333333333333333,
              "#000014"
             ],
             [
              0.4444444444444444,
              "#000015"
             ],
             [
              0.5555555555555556,
              "#000016"
             ],
             [
              0.6666666666666666,
              "#000017"
             ],
             [
              0.7777777777777778,
              "#000018"
             ],
             [
              0.8888888888888888,
              "#000019"
             ],
             [
              1,
              "#000020"
             ]
            ],
            "type": "heatmap"
           }
          ],
          "histogram2d": [
           {
            "colorscale": [
             [
              0,
              "#000011"
             ],
             [
              0.1111111111111111,
              "#000012"
             ],
             [
              0.2222222222222222,
              "#000013"
             ],
             [
              0.3333333333333333,
              "#000014"
             ],
             [
              0.4444444444444444,
              "#000015"
             ],
             [
              0.5555555555555556,
              "#000016"
             ],
             [
              0.6666666666666666,
              "#000017"
             ],
             [
              0.7777777777777778,
              "#000018"
             ],
             [
              0.8888888888888888,
              "#000019"
             ],
             [
              1,
              "#000020"
             ]
            ],
            "type": "histogram2d"
           }
          ],
          "icicle": [
           {
            "textfont": {
             "color": "white"
            },
            "type": "icicle"
           }
          ],
          "sankey": [
           {
            "textfont": {
             "color": "#000036"
            },
            "type": "sankey"
           }
          ],
          "scatter": [
           {
            "marker": {
             "line": {
              "width": 0
             }
            },
            "type": "scatter"
           }
          ],
          "table": [
           {
            "cells": {
             "fill": {
              "color": "#000038"
             },
             "font": {
              "color": "#000037"
             },
             "line": {
              "color": "#000039"
             }
            },
            "header": {
             "fill": {
              "color": "#000040"
             },
             "font": {
              "color": "#000036"
             },
             "line": {
              "color": "#000039"
             }
            },
            "type": "table"
           }
          ],
          "waterfall": [
           {
            "connector": {
             "line": {
              "color": "#000036",
              "width": 2
             }
            },
            "decreasing": {
             "marker": {
              "color": "#000033"
             }
            },
            "increasing": {
             "marker": {
              "color": "#000032"
             }
            },
            "totals": {
             "marker": {
              "color": "#000034"
             }
            },
            "type": "waterfall"
           }
          ]
         },
         "layout": {
          "coloraxis": {
           "colorscale": [
            [
             0,
             "#000011"
            ],
            [
             0.1111111111111111,
             "#000012"
            ],
            [
             0.2222222222222222,
             "#000013"
            ],
            [
             0.3333333333333333,
             "#000014"
            ],
            [
             0.4444444444444444,
             "#000015"
            ],
            [
             0.5555555555555556,
             "#000016"
            ],
            [
             0.6666666666666666,
             "#000017"
            ],
            [
             0.7777777777777778,
             "#000018"
            ],
            [
             0.8888888888888888,
             "#000019"
            ],
            [
             1,
             "#000020"
            ]
           ]
          },
          "colorscale": {
           "diverging": [
            [
             0,
             "#000021"
            ],
            [
             0.1,
             "#000022"
            ],
            [
             0.2,
             "#000023"
            ],
            [
             0.3,
             "#000024"
            ],
            [
             0.4,
             "#000025"
            ],
            [
             0.5,
             "#000026"
            ],
            [
             0.6,
             "#000027"
            ],
            [
             0.7,
             "#000028"
            ],
            [
             0.8,
             "#000029"
            ],
            [
             0.9,
             "#000030"
            ],
            [
             1,
             "#000031"
            ]
           ],
           "sequential": [
            [
             0,
             "#000011"
            ],
            [
             0.1111111111111111,
             "#000012"
            ],
            [
             0.2222222222222222,
             "#000013"
            ],
            [
             0.3333333333333333,
             "#000014"
            ],
            [
             0.4444444444444444,
             "#000015"
            ],
            [
             0.5555555555555556,
             "#000016"
            ],
            [
             0.6666666666666666,
             "#000017"
            ],
            [
             0.7777777777777778,
             "#000018"
            ],
            [
             0.8888888888888888,
             "#000019"
            ],
            [
             1,
             "#000020"
            ]
           ],
           "sequentialminus": [
            [
             0,
             "#000011"
            ],
            [
             0.1111111111111111,
             "#000012"
            ],
            [
             0.2222222222222222,
             "#000013"
            ],
            [
             0.3333333333333333,
             "#000014"
            ],
            [
             0.4444444444444444,
             "#000015"
            ],
            [
             0.5555555555555556,
             "#000016"
            ],
            [
             0.6666666666666666,
             "#000017"
            ],
            [
             0.7777777777777778,
             "#000018"
            ],
            [
             0.8888888888888888,
             "#000019"
            ],
            [
             1,
             "#000020"
            ]
           ]
          },
          "colorway": [
           "#000001",
           "#000002",
           "#000003",
           "#000004",
           "#000005",
           "#000006",
           "#000007",
           "#000008",
           "#000009",
           "#000010"
          ]
         }
        },
        "xaxis": {
         "anchor": "y",
         "domain": [
          0,
          1
         ],
         "title": {
          "text": "City"
         }
        },
        "yaxis": {
         "anchor": "x",
         "domain": [
          0,
          1
         ],
         "title": {
          "text": "Amount"
         }
        }
       }
      }
     },
     "metadata": {},
     "output_type": "display_data"
    }
   ],
   "source": [
    "px.box(df[df['Clean_date'].dt.year == 2016], x='City', y='Amount')"
   ]
  },
  {
   "cell_type": "code",
   "execution_count": 57,
   "metadata": {},
   "outputs": [
    {
     "name": "stderr",
     "output_type": "stream",
     "text": [
      "C:\\Users\\J.A.R.V.I.S\\AppData\\Local\\Temp\\ipykernel_18604\\1134722465.py:1: FutureWarning:\n",
      "\n",
      "The default value of numeric_only in DataFrame.corr is deprecated. In a future version, it will default to False. Select only valid columns or specify the value of numeric_only to silence this warning.\n",
      "\n"
     ]
    },
    {
     "data": {
      "text/html": [
       "<div>\n",
       "<style scoped>\n",
       "    .dataframe tbody tr th:only-of-type {\n",
       "        vertical-align: middle;\n",
       "    }\n",
       "\n",
       "    .dataframe tbody tr th {\n",
       "        vertical-align: top;\n",
       "    }\n",
       "\n",
       "    .dataframe thead th {\n",
       "        text-align: right;\n",
       "    }\n",
       "</style>\n",
       "<table border=\"1\" class=\"dataframe\">\n",
       "  <thead>\n",
       "    <tr style=\"text-align: right;\">\n",
       "      <th></th>\n",
       "      <th>Amount</th>\n",
       "    </tr>\n",
       "  </thead>\n",
       "  <tbody>\n",
       "    <tr>\n",
       "      <th>Amount</th>\n",
       "      <td>1.0</td>\n",
       "    </tr>\n",
       "  </tbody>\n",
       "</table>\n",
       "</div>"
      ],
      "text/plain": [
       "        Amount\n",
       "Amount     1.0"
      ]
     },
     "execution_count": 57,
     "metadata": {},
     "output_type": "execute_result"
    }
   ],
   "source": [
    "df.corr()"
   ]
  },
  {
   "cell_type": "code",
   "execution_count": null,
   "metadata": {},
   "outputs": [],
   "source": []
  }
 ],
 "metadata": {
  "kernelspec": {
   "display_name": "base",
   "language": "python",
   "name": "python3"
  },
  "language_info": {
   "codemirror_mode": {
    "name": "ipython",
    "version": 3
   },
   "file_extension": ".py",
   "mimetype": "text/x-python",
   "name": "python",
   "nbconvert_exporter": "python",
   "pygments_lexer": "ipython3",
   "version": "3.9.12"
  },
  "orig_nbformat": 4,
  "vscode": {
   "interpreter": {
    "hash": "f85b9146c22f560b5e4e393e9773a498e0028d70d0712436c8dae0e49710cb35"
   }
  }
 },
 "nbformat": 4,
 "nbformat_minor": 2
}
